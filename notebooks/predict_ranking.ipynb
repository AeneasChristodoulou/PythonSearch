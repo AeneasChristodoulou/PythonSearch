{
 "cells": [
  {
   "cell_type": "markdown",
   "source": [
    "## Load model"
   ],
   "metadata": {
    "collapsed": false
   }
  },
  {
   "cell_type": "code",
   "execution_count": 1,
   "outputs": [],
   "source": [
    "import mlflow.sklearn\n",
    "import numpy as np\n",
    "from pyspark.sql import SparkSession\n",
    "\n",
    "from mlflow.tracking import MlflowClient\n",
    "from pyspark.sql.functions import udf\n",
    "from pyspark.sql.types import FloatType\n",
    "from search_run.ranking.ranking import Ranking\n",
    "import pyspark.sql.functions as F\n",
    "\n",
    "ranking = Ranking()\n",
    "\n",
    "spark = SparkSession.builder.getOrCreate()\n",
    "client = MlflowClient()\n",
    "experiment = client.get_experiment_by_name('Default')\n",
    "runs = client.list_run_infos(experiment_id=experiment.experiment_id)\n",
    "run_path = f\"runs:/{runs[0].run_uuid}/model/\"\n",
    "model = mlflow.sklearn.load_model(run_path)\n",
    "\n",
    "\n",
    "model\n",
    "\n",
    "\n",
    "show_columns=[]\n",
    "\n",
    "# if you wanna print the key used use this one instead\n",
    "#show_columns=['key']"
   ],
   "metadata": {
    "collapsed": false,
    "pycharm": {
     "name": "#%%\n"
    }
   }
  },
  {
   "cell_type": "markdown",
   "source": [
    "## Predict ranking"
   ],
   "metadata": {
    "collapsed": false
   }
  },
  {
   "cell_type": "code",
   "execution_count": 2,
   "outputs": [],
   "source": [
    "\n",
    "\n",
    "def evaluate_model(position, key_lenght):\n",
    "    \"\"\" function to predict used at the udf \"\"\"\n",
    "    return float(model.predict(np.array([[position, key_lenght]]))[0])\n",
    "\n",
    "entries_df = ranking.load_entries_df(spark)\n",
    "model_udf = udf(evaluate_model, FloatType())\n",
    "result_df = entries_df.withColumn(\"predicted_key_lenght\", model_udf(F.col('position'), F.col('key_lenght')))\n",
    "#result_df.show()"
   ],
   "metadata": {
    "collapsed": false,
    "pycharm": {
     "name": "#%%\n"
    }
   }
  },
  {
   "cell_type": "markdown",
   "source": [
    "## Analyse results - easiest to find"
   ],
   "metadata": {
    "collapsed": false
   }
  },
  {
   "cell_type": "code",
   "execution_count": 3,
   "outputs": [
    {
     "name": "stdout",
     "output_type": "stream",
     "text": [
      "+--------+----------+--------------------+\n",
      "|position|key_lenght|predicted_key_lenght|\n",
      "+--------+----------+--------------------+\n",
      "|      58|        32|           1.2697285|\n",
      "|     127|        32|           1.3133777|\n",
      "|      19|        32|           1.3197286|\n",
      "|      18|        30|           1.6375389|\n",
      "|       2|        31|           1.7776817|\n",
      "|      26|        31|           1.7776817|\n",
      "|       3|        31|           1.7776817|\n",
      "|      36|        31|           1.7776817|\n",
      "|      75|        30|           1.8103861|\n",
      "|      74|        31|           1.9343946|\n",
      "|      79|        31|           2.0561326|\n",
      "|      32|        29|            2.139599|\n",
      "|      34|        29|            2.139599|\n",
      "|      54|        29|            2.139599|\n",
      "|      27|        28|           2.3564785|\n",
      "|      61|        28|           2.3564785|\n",
      "|      39|        28|           2.3564785|\n",
      "|      71|        30|           2.4556108|\n",
      "|      47|        27|           2.6417165|\n",
      "|      23|        27|           2.6417165|\n",
      "+--------+----------+--------------------+\n",
      "only showing top 20 rows\n",
      "\n"
     ]
    }
   ],
   "source": [
    "\n",
    "result_df.select(*ranking.model_info.features, *show_columns, 'predicted_key_lenght').orderBy(F.col\n",
    "                                                                                            ('predicted_key_lenght')\n",
    "                                                                                       .asc()).show()\n"
   ],
   "metadata": {
    "collapsed": false,
    "pycharm": {
     "name": "#%%\n"
    }
   }
  },
  {
   "cell_type": "markdown",
   "source": [
    "\n",
    "\n",
    "## Analyse results - hardest to find"
   ],
   "metadata": {
    "collapsed": false
   }
  },
  {
   "cell_type": "code",
   "execution_count": 4,
   "outputs": [
    {
     "name": "stdout",
     "output_type": "stream",
     "text": [
      "+--------+----------+--------------------+\n",
      "|position|key_lenght|predicted_key_lenght|\n",
      "+--------+----------+--------------------+\n",
      "|     484|        41|           413.92636|\n",
      "|    2270|        39|           245.19867|\n",
      "|     486|        35|            221.0795|\n",
      "|    2294|        39|           220.93867|\n",
      "|    2325|        39|           220.93867|\n",
      "|    2301|        39|           220.93867|\n",
      "|     498|        41|           196.96376|\n",
      "|    2283|        38|           191.49321|\n",
      "|    2583|        39|           168.09265|\n",
      "|     422|        52|           167.30533|\n",
      "|    2367|        38|            167.0532|\n",
      "|    2100|        39|           163.08955|\n",
      "|    2201|        39|           162.45686|\n",
      "|    1933|        39|           162.38455|\n",
      "|    1926|        39|           161.44955|\n",
      "|    2478|        40|           157.63939|\n",
      "|     470|        53|           153.86404|\n",
      "|     489|        38|           150.95296|\n",
      "|    2268|        41|            148.6637|\n",
      "|     487|        42|           146.16835|\n",
      "+--------+----------+--------------------+\n",
      "only showing top 20 rows\n",
      "\n"
     ]
    }
   ],
   "source": [
    "\n",
    "result_df.select(*ranking.model_info.features, *show_columns, 'predicted_key_lenght',).orderBy(F.col\n",
    "                                                                                               ('predicted_key_lenght')\n",
    "                                                                                       .desc\n",
    "                                                            ()).show()\n"
   ],
   "metadata": {
    "collapsed": false,
    "pycharm": {
     "name": "#%%\n"
    }
   }
  },
  {
   "cell_type": "markdown",
   "source": [
    "## Save output to be consumed\n"
   ],
   "metadata": {
    "collapsed": false
   }
  },
  {
   "cell_type": "code",
   "execution_count": 5,
   "outputs": [
    {
     "name": "stdout",
     "output_type": "stream",
     "text": [
      "Finished\n"
     ]
    }
   ],
   "source": [
    "import shutil\n",
    "\n",
    "output = result_df.select('key', 'predicted_key_lenght').orderBy(F.col('predicted_key_lenght').desc())\n",
    "shutil.rmtree('/data/search_run/predict_input_lenght/latest')\n",
    "output.repartition(1).write.csv('/data/search_run/predict_input_lenght/latest', header=True)\n",
    "print(\"Finished\")"
   ],
   "metadata": {
    "collapsed": false,
    "pycharm": {
     "name": "#%%\n"
    }
   }
  },
  {
   "cell_type": "markdown",
   "source": [
    "## Visualize output"
   ],
   "metadata": {
    "collapsed": false
   }
  },
  {
   "cell_type": "code",
   "execution_count": 38,
   "outputs": [],
   "source": [
    "#!cat /data/search_run/predict_input_lenght/latest/**\n",
    "\n"
   ],
   "metadata": {
    "collapsed": false,
    "pycharm": {
     "name": "#%%\n"
    }
   }
  },
  {
   "cell_type": "code",
   "execution_count": null,
   "outputs": [],
   "source": [],
   "metadata": {
    "collapsed": false,
    "pycharm": {
     "name": "#%%\n"
    }
   }
  }
 ],
 "metadata": {
  "kernelspec": {
   "display_name": "Python 3",
   "language": "python",
   "name": "python3"
  },
  "language_info": {
   "codemirror_mode": {
    "name": "ipython",
    "version": 2
   },
   "file_extension": ".py",
   "mimetype": "text/x-python",
   "name": "python",
   "nbconvert_exporter": "python",
   "pygments_lexer": "ipython2",
   "version": "2.7.6"
  }
 },
 "nbformat": 4,
 "nbformat_minor": 0
}