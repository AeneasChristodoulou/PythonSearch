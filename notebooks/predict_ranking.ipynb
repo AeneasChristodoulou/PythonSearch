{
 "cells": [
  {
   "cell_type": "markdown",
   "source": [
    "## Load model"
   ],
   "metadata": {
    "collapsed": false
   }
  },
  {
   "cell_type": "code",
   "execution_count": 39,
   "outputs": [],
   "source": [
    "import mlflow.sklearn\n",
    "import numpy as np\n",
    "from pyspark.sql import SparkSession\n",
    "\n",
    "from mlflow.tracking import MlflowClient\n",
    "from pyspark.sql.functions import udf\n",
    "from pyspark.sql.types import FloatType\n",
    "from search_run.ranking.ranking import Ranking\n",
    "import pyspark.sql.functions as F\n",
    "\n",
    "ranking = Ranking()\n",
    "\n",
    "spark = SparkSession.builder.getOrCreate()\n",
    "client = MlflowClient()\n",
    "experiment = client.get_experiment_by_name('Default')\n",
    "runs = client.list_run_infos(experiment_id=experiment.experiment_id)\n",
    "run_path = f\"runs:/{runs[0].run_uuid}/model/\"\n",
    "model = mlflow.sklearn.load_model(run_path)\n",
    "\n",
    "\n",
    "model\n",
    "#show_columns = ['key']\n",
    "show_columns=[]"
   ],
   "metadata": {
    "collapsed": false,
    "pycharm": {
     "name": "#%%\n"
    }
   }
  },
  {
   "cell_type": "markdown",
   "source": [
    "## Predict ranking"
   ],
   "metadata": {
    "collapsed": false
   }
  },
  {
   "cell_type": "code",
   "execution_count": 23,
   "outputs": [],
   "source": [
    "\n",
    "\n",
    "def evaluate_model(position, key_lenght):\n",
    "    \"\"\" function to predict used at the udf \"\"\"\n",
    "    return float(model.predict(np.array([[position, key_lenght]]))[0])\n",
    "\n",
    "entries_df = ranking.load_entries_df(spark)\n",
    "model_udf = udf(evaluate_model, FloatType())\n",
    "result_df = entries_df.withColumn(\"predicted_key_lenght\", model_udf(F.col('position'), F.col('key_lenght')))\n",
    "#result_df.show()"
   ],
   "metadata": {
    "collapsed": false,
    "pycharm": {
     "name": "#%%\n"
    }
   }
  },
  {
   "cell_type": "markdown",
   "source": [
    "## Analyse results - easiest to find"
   ],
   "metadata": {
    "collapsed": false
   }
  },
  {
   "cell_type": "code",
   "execution_count": 29,
   "outputs": [
    {
     "name": "stdout",
     "output_type": "stream",
     "text": [
      "+--------+----------+--------------------+\n",
      "|position|key_lenght|predicted_key_lenght|\n",
      "+--------+----------+--------------------+\n",
      "|    2973|        16|           22.474922|\n",
      "|    2966|        18|           22.474922|\n",
      "|    2953|        17|           22.474922|\n",
      "|    2939|        18|           22.474922|\n",
      "|    2943|        22|           22.474922|\n",
      "|    2949|         9|           22.474922|\n",
      "|    2972|        18|           22.474922|\n",
      "|    2957|        17|           22.474922|\n",
      "|    2935|        13|           22.474922|\n",
      "|    2941|        21|           22.474922|\n",
      "|    2963|        21|           22.474922|\n",
      "|    2947|        20|           22.474922|\n",
      "|    2969|        24|           22.474922|\n",
      "|    2971|        24|           22.474922|\n",
      "|    2951|        11|           22.474922|\n",
      "|    2956|        25|           22.474922|\n",
      "|    2981|        12|           22.474922|\n",
      "|    2955|        16|           22.474922|\n",
      "|    2980|        20|           22.474922|\n",
      "|    2958|        22|           22.474922|\n",
      "+--------+----------+--------------------+\n",
      "only showing top 20 rows\n",
      "\n"
     ]
    }
   ],
   "source": [
    "\n",
    "result_df.select(*ranking.model_info.features, *show_columns, 'predicted_key_lenght').orderBy(F.col\n",
    "                                                                                            ('predicted_key_lenght')\n",
    "                                                                                       .asc()).show()\n"
   ],
   "metadata": {
    "collapsed": false,
    "pycharm": {
     "name": "#%%\n"
    }
   }
  },
  {
   "cell_type": "markdown",
   "source": [
    "\n",
    "\n",
    "## Analyse results - hardest to find"
   ],
   "metadata": {
    "collapsed": false
   }
  },
  {
   "cell_type": "code",
   "execution_count": 28,
   "outputs": [
    {
     "name": "stdout",
     "output_type": "stream",
     "text": [
      "+--------+----------+--------------------+\n",
      "|position|key_lenght|predicted_key_lenght|\n",
      "+--------+----------+--------------------+\n",
      "|     256|        41|          102.572296|\n",
      "|     169|        41|          102.572296|\n",
      "|     270|        41|          102.572296|\n",
      "|     288|        41|           101.62816|\n",
      "|     259|        42|           101.48737|\n",
      "|     226|        40|           100.85271|\n",
      "|     292|        40|            99.90857|\n",
      "|     245|        44|            99.06883|\n",
      "|     272|        43|            99.06883|\n",
      "|     181|        43|            99.06883|\n",
      "|     152|        44|            99.06883|\n",
      "|     154|        43|            99.06883|\n",
      "|     165|        39|            98.83337|\n",
      "|     207|        39|            98.83337|\n",
      "|     187|        46|            98.59564|\n",
      "|     242|        53|            98.59564|\n",
      "|     156|        45|            98.59564|\n",
      "|     198|        63|            98.59564|\n",
      "|     178|        54|            98.59564|\n",
      "|     279|        49|            98.59564|\n",
      "+--------+----------+--------------------+\n",
      "only showing top 20 rows\n",
      "\n"
     ]
    }
   ],
   "source": [
    "\n",
    "result_df.select(*ranking.model_info.features, *show_columns, 'predicted_key_lenght',).orderBy(F.col\n",
    "                                                                                               ('predicted_key_lenght')\n",
    "                                                                                       .desc\n",
    "                                                            ()).show()\n"
   ],
   "metadata": {
    "collapsed": false,
    "pycharm": {
     "name": "#%%\n"
    }
   }
  },
  {
   "cell_type": "markdown",
   "source": [
    "## Save output to be consumed\n"
   ],
   "metadata": {
    "collapsed": false
   }
  },
  {
   "cell_type": "code",
   "execution_count": 27,
   "outputs": [
    {
     "name": "stdout",
     "output_type": "stream",
     "text": [
      "Finished\n"
     ]
    }
   ],
   "source": [
    "import shutil\n",
    "\n",
    "output = result_df.select('key', 'predicted_key_lenght').orderBy(F.col('predicted_key_lenght').desc())\n",
    "shutil.rmtree('/data/search_run/predict_input_lenght/latest')\n",
    "output.repartition(1).write.csv('/data/search_run/predict_input_lenght/latest', header=True)\n",
    "print(\"Finished\")"
   ],
   "metadata": {
    "collapsed": false,
    "pycharm": {
     "name": "#%%\n"
    }
   }
  },
  {
   "cell_type": "markdown",
   "source": [
    "## Visualize output"
   ],
   "metadata": {
    "collapsed": false
   }
  },
  {
   "cell_type": "code",
   "execution_count": 38,
   "outputs": [],
   "source": [
    "#!cat /data/search_run/predict_input_lenght/latest/**\n",
    "\n"
   ],
   "metadata": {
    "collapsed": false,
    "pycharm": {
     "name": "#%%\n"
    }
   }
  },
  {
   "cell_type": "code",
   "execution_count": null,
   "outputs": [],
   "source": [],
   "metadata": {
    "collapsed": false,
    "pycharm": {
     "name": "#%%\n"
    }
   }
  }
 ],
 "metadata": {
  "kernelspec": {
   "display_name": "Python 3",
   "language": "python",
   "name": "python3"
  },
  "language_info": {
   "codemirror_mode": {
    "name": "ipython",
    "version": 2
   },
   "file_extension": ".py",
   "mimetype": "text/x-python",
   "name": "python",
   "nbconvert_exporter": "python",
   "pygments_lexer": "ipython2",
   "version": "2.7.6"
  }
 },
 "nbformat": 4,
 "nbformat_minor": 0
}
