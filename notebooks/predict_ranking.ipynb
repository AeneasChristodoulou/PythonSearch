{
 "cells": [
  {
   "cell_type": "markdown",
   "source": [
    "## Load model"
   ],
   "metadata": {
    "collapsed": false
   }
  },
  {
   "cell_type": "code",
   "execution_count": 10,
   "outputs": [],
   "source": [
    "import mlflow.sklearn\n",
    "import numpy as np\n",
    "from pyspark.sql import SparkSession\n",
    "\n",
    "from mlflow.tracking import MlflowClient\n",
    "from pyspark.sql.functions import udf\n",
    "from pyspark.sql.types import FloatType\n",
    "from search_run.ranking.ranking import Ranking\n",
    "import pyspark.sql.functions as F\n",
    "\n",
    "ranking = Ranking()\n",
    "\n",
    "spark = SparkSession.builder.getOrCreate()\n",
    "client = MlflowClient()\n",
    "experiment = client.get_experiment_by_name('Default')\n",
    "runs = client.list_run_infos(experiment_id=experiment.experiment_id)\n",
    "run_path = f\"runs:/{runs[0].run_uuid}/model/\"\n",
    "model = mlflow.sklearn.load_model(run_path)\n",
    "\n",
    "\n",
    "model\n",
    "\n",
    "\n",
    "show_columns=[]\n",
    "\n",
    "# if you wanna print the key used use this one instead\n",
    "#show_columns=['key']"
   ],
   "metadata": {
    "collapsed": false,
    "pycharm": {
     "name": "#%%\n"
    }
   }
  },
  {
   "cell_type": "markdown",
   "source": [
    "## Predict ranking"
   ],
   "metadata": {
    "collapsed": false
   }
  },
  {
   "cell_type": "code",
   "execution_count": 3,
   "outputs": [],
   "source": [
    "\n",
    "\n",
    "def evaluate_model(position, key_lenght):\n",
    "    \"\"\" function to predict used at the udf \"\"\"\n",
    "    return float(model.predict(np.array([[position, key_lenght]]))[0])\n",
    "\n",
    "entries_df = ranking.load_entries_df(spark)\n",
    "model_udf = udf(evaluate_model, FloatType())\n",
    "result_df = entries_df.withColumn(\"predicted_key_lenght\", model_udf(F.col('position'), F.col('key_lenght')))\n",
    "#result_df.show()"
   ],
   "metadata": {
    "collapsed": false,
    "pycharm": {
     "name": "#%%\n"
    }
   }
  },
  {
   "cell_type": "markdown",
   "source": [
    "## Analyse results - easiest to find"
   ],
   "metadata": {
    "collapsed": false
   }
  },
  {
   "cell_type": "code",
   "execution_count": 4,
   "outputs": [
    {
     "name": "stdout",
     "output_type": "stream",
     "text": [
      "+--------+----------+--------------------+\n",
      "|position|key_lenght|predicted_key_lenght|\n",
      "+--------+----------+--------------------+\n",
      "|      19|        34|            2.054619|\n",
      "|       2|        17|           2.6820834|\n",
      "|       6|        17|           2.6820834|\n",
      "|      28|        27|            2.781002|\n",
      "|      23|        35|           2.9229524|\n",
      "|       4|        36|           3.1142976|\n",
      "|     149|        27|             3.55375|\n",
      "|       1|        33|           3.6798215|\n",
      "|       5|        10|           3.8520834|\n",
      "|     162|        41|            3.928721|\n",
      "|       3|        42|           3.9402144|\n",
      "|      29|        24|            4.049433|\n",
      "|       7|        18|           4.1055355|\n",
      "|     146|        25|             4.25675|\n",
      "|      25|        22|            4.310016|\n",
      "|      26|        22|            4.310016|\n",
      "|     147|        29|            4.344627|\n",
      "|      14|        43|            4.542345|\n",
      "|      30|        22|            4.597695|\n",
      "|     148|        18|           4.7117777|\n",
      "+--------+----------+--------------------+\n",
      "only showing top 20 rows\n",
      "\n"
     ]
    }
   ],
   "source": [
    "\n",
    "result_df.select(*ranking.model_info.features, *show_columns, 'predicted_key_lenght').orderBy(F.col\n",
    "                                                                                            ('predicted_key_lenght')\n",
    "                                                                                       .asc()).show()\n"
   ],
   "metadata": {
    "collapsed": false,
    "pycharm": {
     "name": "#%%\n"
    }
   }
  },
  {
   "cell_type": "markdown",
   "source": [
    "\n",
    "\n",
    "## Analyse results - hardest to find"
   ],
   "metadata": {
    "collapsed": false
   }
  },
  {
   "cell_type": "code",
   "execution_count": null,
   "outputs": [],
   "source": [
    "\n",
    "result_df.select(*ranking.model_info.features, *show_columns, 'predicted_key_lenght',).orderBy(F.col\n",
    "                                                                                               ('predicted_key_lenght')\n",
    "                                                                                       .desc\n",
    "                                                            ()).show()\n"
   ],
   "metadata": {
    "collapsed": false,
    "pycharm": {
     "name": "#%%\n",
     "is_executing": true
    }
   }
  },
  {
   "cell_type": "markdown",
   "source": [
    "## Save output to be consumed\n"
   ],
   "metadata": {
    "collapsed": false
   }
  },
  {
   "cell_type": "code",
   "execution_count": 6,
   "outputs": [
    {
     "name": "stdout",
     "output_type": "stream",
     "text": [
      "Finished\n"
     ]
    }
   ],
   "source": [
    "import shutil\n",
    "\n",
    "output = result_df.select('key', 'predicted_key_lenght').orderBy(F.col('predicted_key_lenght').desc())\n",
    "shutil.rmtree('/data/search_run/predict_input_lenght/latest')\n",
    "output.repartition(1).write.csv('/data/search_run/predict_input_lenght/latest', header=True)\n",
    "print(\"Finished\")"
   ],
   "metadata": {
    "collapsed": false,
    "pycharm": {
     "name": "#%%\n"
    }
   }
  },
  {
   "cell_type": "markdown",
   "source": [
    "## Visualize output"
   ],
   "metadata": {
    "collapsed": false
   }
  },
  {
   "cell_type": "code",
   "execution_count": 38,
   "outputs": [],
   "source": [
    "#!cat /data/search_run/predict_input_lenght/latest/**\n",
    "\n"
   ],
   "metadata": {
    "collapsed": false,
    "pycharm": {
     "name": "#%%\n"
    }
   }
  },
  {
   "cell_type": "code",
   "execution_count": null,
   "outputs": [],
   "source": [],
   "metadata": {
    "collapsed": false,
    "pycharm": {
     "name": "#%%\n"
    }
   }
  }
 ],
 "metadata": {
  "kernelspec": {
   "display_name": "Python 3",
   "language": "python",
   "name": "python3"
  },
  "language_info": {
   "codemirror_mode": {
    "name": "ipython",
    "version": 2
   },
   "file_extension": ".py",
   "mimetype": "text/x-python",
   "name": "python",
   "nbconvert_exporter": "python",
   "pygments_lexer": "ipython2",
   "version": "2.7.6"
  }
 },
 "nbformat": 4,
 "nbformat_minor": 0
}