{
 "cells": [
  {
   "cell_type": "markdown",
   "source": [
    "## Load model"
   ],
   "metadata": {
    "collapsed": false
   }
  },
  {
   "cell_type": "code",
   "execution_count": 1,
   "outputs": [],
   "source": [
    "import mlflow.sklearn\n",
    "import numpy as np\n",
    "from pyspark.sql import SparkSession\n",
    "\n",
    "from mlflow.tracking import MlflowClient\n",
    "from pyspark.sql.functions import udf\n",
    "from pyspark.sql.types import FloatType\n",
    "from search_run.ranking.ranking import Ranking\n",
    "import pyspark.sql.functions as F\n",
    "\n",
    "ranking = Ranking()\n",
    "\n",
    "spark = SparkSession.builder.getOrCreate()\n",
    "client = MlflowClient()\n",
    "experiment = client.get_experiment_by_name('Default')\n",
    "runs = client.list_run_infos(experiment_id=experiment.experiment_id)\n",
    "run_path = f\"runs:/{runs[0].run_uuid}/model/\"\n",
    "model = mlflow.sklearn.load_model(run_path)\n",
    "\n",
    "\n",
    "model\n",
    "\n",
    "\n",
    "show_columns=[]\n",
    "\n",
    "# if you wanna print the key used use this one instead\n",
    "#show_columns=['key']"
   ],
   "metadata": {
    "collapsed": false,
    "pycharm": {
     "name": "#%%\n"
    }
   }
  },
  {
   "cell_type": "markdown",
   "source": [
    "## Predict ranking"
   ],
   "metadata": {
    "collapsed": false
   }
  },
  {
   "cell_type": "code",
   "execution_count": 2,
   "outputs": [],
   "source": [
    "\n",
    "\n",
    "def evaluate_model(position, key_lenght):\n",
    "    \"\"\" function to predict used at the udf \"\"\"\n",
    "    return float(model.predict(np.array([[position, key_lenght]]))[0])\n",
    "\n",
    "entries_df = ranking.load_entries_df(spark)\n",
    "model_udf = udf(evaluate_model, FloatType())\n",
    "result_df = entries_df.withColumn(\"predicted_key_lenght\", model_udf(F.col('position'), F.col('key_lenght')))\n",
    "#result_df.show()"
   ],
   "metadata": {
    "collapsed": false,
    "pycharm": {
     "name": "#%%\n"
    }
   }
  },
  {
   "cell_type": "markdown",
   "source": [
    "## Analyse results - easiest to find"
   ],
   "metadata": {
    "collapsed": false
   }
  },
  {
   "cell_type": "code",
   "execution_count": 3,
   "outputs": [
    {
     "name": "stdout",
     "output_type": "stream",
     "text": [
      "+--------+----------+--------------------+\n",
      "|position|key_lenght|predicted_key_lenght|\n",
      "+--------+----------+--------------------+\n",
      "|     201|        32|           1.3371203|\n",
      "|     148|        31|           1.8000659|\n",
      "|     203|        30|           1.8142977|\n",
      "|     149|        30|           1.9202597|\n",
      "|     190|        30|           1.9402977|\n",
      "|     271|        34|           2.1100752|\n",
      "|      50|        30|            2.162003|\n",
      "|       5|        30|            2.162003|\n",
      "|      92|        30|            2.162003|\n",
      "|      11|        30|            2.162003|\n",
      "|     153|        31|            2.193936|\n",
      "|     110|        31|           2.2073877|\n",
      "|     100|        31|           2.2073877|\n",
      "|      37|        31|           2.2073877|\n",
      "|      77|        31|           2.2073877|\n",
      "|       8|        32|           3.2765884|\n",
      "|     132|        32|           3.2765884|\n",
      "|      93|        32|           3.2765884|\n",
      "|     128|        29|           3.5030427|\n",
      "|     106|        29|           3.5030427|\n",
      "+--------+----------+--------------------+\n",
      "only showing top 20 rows\n",
      "\n"
     ]
    }
   ],
   "source": [
    "\n",
    "result_df.select(*ranking.model_info.features, *show_columns, 'predicted_key_lenght').orderBy(F.col\n",
    "                                                                                            ('predicted_key_lenght')\n",
    "                                                                                       .asc()).show()\n"
   ],
   "metadata": {
    "collapsed": false,
    "pycharm": {
     "name": "#%%\n"
    }
   }
  },
  {
   "cell_type": "markdown",
   "source": [
    "\n",
    "\n",
    "## Analyse results - hardest to find"
   ],
   "metadata": {
    "collapsed": false
   }
  },
  {
   "cell_type": "code",
   "execution_count": 4,
   "outputs": [
    {
     "name": "stdout",
     "output_type": "stream",
     "text": [
      "+--------+----------+--------------------+\n",
      "|position|key_lenght|predicted_key_lenght|\n",
      "+--------+----------+--------------------+\n",
      "|     558|        41|           448.29694|\n",
      "|     572|        41|            345.6516|\n",
      "|     496|        52|             166.485|\n",
      "|    2342|        39|           164.00435|\n",
      "|     590|        41|           163.08333|\n",
      "|    3715|        20|           149.57974|\n",
      "|    3702|        20|           149.57974|\n",
      "|    3701|        20|           149.57974|\n",
      "|     503|        63|           147.04309|\n",
      "|    1312|        60|           143.74069|\n",
      "|    3636|        20|            139.0517|\n",
      "|    3633|        20|            139.0517|\n",
      "|    3587|        20|           135.52727|\n",
      "|    1158|        42|            133.6041|\n",
      "|     483|        54|           131.63066|\n",
      "|    1219|        47|           129.90463|\n",
      "|    1396|        47|           128.48994|\n",
      "|     544|        53|           128.42384|\n",
      "|    1156|        47|          127.912964|\n",
      "|    1408|        46|          127.273315|\n",
      "+--------+----------+--------------------+\n",
      "only showing top 20 rows\n",
      "\n"
     ]
    }
   ],
   "source": [
    "\n",
    "result_df.select(*ranking.model_info.features, *show_columns, 'predicted_key_lenght',).orderBy(F.col\n",
    "                                                                                               ('predicted_key_lenght')\n",
    "                                                                                       .desc\n",
    "                                                            ()).show()\n"
   ],
   "metadata": {
    "collapsed": false,
    "pycharm": {
     "name": "#%%\n"
    }
   }
  },
  {
   "cell_type": "markdown",
   "source": [
    "## Save output to be consumed\n"
   ],
   "metadata": {
    "collapsed": false
   }
  },
  {
   "cell_type": "code",
   "execution_count": 18,
   "outputs": [
    {
     "name": "stdout",
     "output_type": "stream",
     "text": [
      "Finished\n",
      "Finished\n"
     ]
    }
   ],
   "source": [
    "import shutil\n",
    "from search_run.data_paths import DataPaths\n",
    "\n",
    "output = result_df.select('key', 'predicted_key_lenght').orderBy(F.col('predicted_key_lenght').desc())\n",
    "shutil.rmtree(DataPaths.prediction_batch_location)\n",
    "\n",
    "output.repartition(1).write.csv(DataPaths.prediction_batch_location, header=True)\n",
    "print(\"Finished\")"
   ],
   "metadata": {
    "collapsed": false,
    "pycharm": {
     "name": "#%%\n"
    }
   }
  },
  {
   "cell_type": "markdown",
   "source": [
    "## Visualize output"
   ],
   "metadata": {
    "collapsed": false
   }
  },
  {
   "cell_type": "code",
   "execution_count": 29,
   "outputs": [],
   "source": [
    "#! cat {DataPaths.prediction_batch_location}/**\n",
    "\n",
    "\n"
   ],
   "metadata": {
    "collapsed": false,
    "pycharm": {
     "name": "#%%\n"
    }
   }
  }
 ],
 "metadata": {
  "kernelspec": {
   "display_name": "Python 3",
   "language": "python",
   "name": "python3"
  },
  "language_info": {
   "codemirror_mode": {
    "name": "ipython",
    "version": 2
   },
   "file_extension": ".py",
   "mimetype": "text/x-python",
   "name": "python",
   "nbconvert_exporter": "python",
   "pygments_lexer": "ipython2",
   "version": "2.7.6"
  }
 },
 "nbformat": 4,
 "nbformat_minor": 0
}
