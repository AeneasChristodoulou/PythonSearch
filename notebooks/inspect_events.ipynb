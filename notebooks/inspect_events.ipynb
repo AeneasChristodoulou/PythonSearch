{
 "cells": [
  {
   "cell_type": "code",
   "execution_count": 43,
   "metadata": {},
   "outputs": [],
   "source": [
    "from pyspark.sql.session import SparkSession\n",
    "\n",
    "topic = 'mytopic'\n",
    "topic = 'SearchRunPerformed'\n",
    "\n",
    "\n",
    "df = spark.read.format(\"parquet\").load(f\"/data/python_search/data_warehouse/dataframes/{topic}\")"
   ]
  },
  {
   "cell_type": "code",
   "execution_count": 49,
   "metadata": {
    "pycharm": {
     "name": "#%%\n"
    }
   },
   "outputs": [
    {
     "data": {
      "text/html": [
       "<div>\n",
       "<style scoped>\n",
       "    .dataframe tbody tr th:only-of-type {\n",
       "        vertical-align: middle;\n",
       "    }\n",
       "\n",
       "    .dataframe tbody tr th {\n",
       "        vertical-align: top;\n",
       "    }\n",
       "\n",
       "    .dataframe thead th {\n",
       "        text-align: right;\n",
       "    }\n",
       "</style>\n",
       "<table border=\"1\" class=\"dataframe\">\n",
       "  <thead>\n",
       "    <tr style=\"text-align: right;\">\n",
       "      <th></th>\n",
       "      <th>key</th>\n",
       "      <th>query_input</th>\n",
       "      <th>shortcut</th>\n",
       "      <th>timestamp</th>\n",
       "    </tr>\n",
       "  </thead>\n",
       "  <tbody>\n",
       "    <tr>\n",
       "      <th>0</th>\n",
       "      <td>accomplishments in life main doc</td>\n",
       "      <td></td>\n",
       "      <td>false</td>\n",
       "      <td>2022-01-03 15:59:40.954</td>\n",
       "    </tr>\n",
       "    <tr>\n",
       "      <th>1</th>\n",
       "      <td>startsearchrunsearch</td>\n",
       "      <td></td>\n",
       "      <td>1</td>\n",
       "      <td>2022-01-03 15:59:36.819</td>\n",
       "    </tr>\n",
       "    <tr>\n",
       "      <th>2</th>\n",
       "      <td>list existing kafka topics local machine</td>\n",
       "      <td></td>\n",
       "      <td>false</td>\n",
       "      <td>2022-01-03 15:59:14.313</td>\n",
       "    </tr>\n",
       "    <tr>\n",
       "      <th>3</th>\n",
       "      <td>startsearchrunsearch</td>\n",
       "      <td></td>\n",
       "      <td>1</td>\n",
       "      <td>2022-01-03 15:59:12.611</td>\n",
       "    </tr>\n",
       "  </tbody>\n",
       "</table>\n",
       "</div>"
      ],
      "text/plain": [
       "                                        key query_input shortcut  \\\n",
       "0          accomplishments in life main doc                false   \n",
       "1                      startsearchrunsearch                    1   \n",
       "2  list existing kafka topics local machine                false   \n",
       "3                      startsearchrunsearch                    1   \n",
       "\n",
       "                timestamp  \n",
       "0 2022-01-03 15:59:40.954  \n",
       "1 2022-01-03 15:59:36.819  \n",
       "2 2022-01-03 15:59:14.313  \n",
       "3 2022-01-03 15:59:12.611  "
      ]
     },
     "execution_count": 49,
     "metadata": {},
     "output_type": "execute_result"
    }
   ],
   "source": [
    "df.orderBy(\"timestamp\", ascending=False).select(\"*\").toPandas()"
   ]
  },
  {
   "cell_type": "code",
   "execution_count": null,
   "metadata": {
    "pycharm": {
     "name": "#%%\n"
    }
   },
   "outputs": [],
   "source": []
  }
 ],
 "metadata": {
  "kernelspec": {
   "display_name": "Python 3",
   "language": "python",
   "name": "python3"
  },
  "language_info": {
   "codemirror_mode": {
    "name": "ipython",
    "version": 3
   },
   "file_extension": ".py",
   "mimetype": "text/x-python",
   "name": "python",
   "nbconvert_exporter": "python",
   "pygments_lexer": "ipython3",
   "version": "3.10.1"
  }
 },
 "nbformat": 4,
 "nbformat_minor": 1
}
