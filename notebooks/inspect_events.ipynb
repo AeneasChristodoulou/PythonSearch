{
 "cells": [
  {
   "cell_type": "code",
   "execution_count": 55,
   "metadata": {},
   "outputs": [],
   "source": [
    "from pyspark.sql.session import SparkSession\n",
    "\n",
    "topic = 'mytopic'\n",
    "topic = 'SearchRunPerformed'\n",
    "\n",
    "\n",
    "df = spark.read.format(\"parquet\").load(f\"/data/python_search/data_warehouse/dataframes/{topic}\")"
   ]
  },
  {
   "cell_type": "code",
   "execution_count": 60,
   "metadata": {
    "pycharm": {
     "name": "#%%\n"
    }
   },
   "outputs": [
    {
     "data": {
      "text/plain": "   query_input shortcut               timestamp\n0                 false 2022-01-03 16:11:54.701\n1                     1 2022-01-03 16:11:51.635\n2                 false 2022-01-03 16:11:15.334\n3                     1 2022-01-03 16:11:12.090\n4                     1 2022-01-03 16:10:58.681\n5                     1 2022-01-03 16:10:51.472\n6                     1 2022-01-03 16:10:25.221\n7                 false 2022-01-03 16:10:23.180\n8                     1 2022-01-03 16:10:21.494\n9                 false 2022-01-03 16:10:17.308\n10                    1 2022-01-03 16:10:14.251\n11                    1 2022-01-03 16:10:02.784\n12                    1 2022-01-03 16:05:44.479\n13                false 2022-01-03 16:02:44.204\n14                    1 2022-01-03 16:02:33.076\n15                    1 2022-01-03 16:01:04.004\n16                false 2022-01-03 15:59:40.954\n17                    1 2022-01-03 15:59:36.819\n18                false 2022-01-03 15:59:14.313\n19                    1 2022-01-03 15:59:12.611",
      "text/html": "<div>\n<style scoped>\n    .dataframe tbody tr th:only-of-type {\n        vertical-align: middle;\n    }\n\n    .dataframe tbody tr th {\n        vertical-align: top;\n    }\n\n    .dataframe thead th {\n        text-align: right;\n    }\n</style>\n<table border=\"1\" class=\"dataframe\">\n  <thead>\n    <tr style=\"text-align: right;\">\n      <th></th>\n      <th>query_input</th>\n      <th>shortcut</th>\n      <th>timestamp</th>\n    </tr>\n  </thead>\n  <tbody>\n    <tr>\n      <th>0</th>\n      <td></td>\n      <td>false</td>\n      <td>2022-01-03 16:11:54.701</td>\n    </tr>\n    <tr>\n      <th>1</th>\n      <td></td>\n      <td>1</td>\n      <td>2022-01-03 16:11:51.635</td>\n    </tr>\n    <tr>\n      <th>2</th>\n      <td></td>\n      <td>false</td>\n      <td>2022-01-03 16:11:15.334</td>\n    </tr>\n    <tr>\n      <th>3</th>\n      <td></td>\n      <td>1</td>\n      <td>2022-01-03 16:11:12.090</td>\n    </tr>\n    <tr>\n      <th>4</th>\n      <td></td>\n      <td>1</td>\n      <td>2022-01-03 16:10:58.681</td>\n    </tr>\n    <tr>\n      <th>5</th>\n      <td></td>\n      <td>1</td>\n      <td>2022-01-03 16:10:51.472</td>\n    </tr>\n    <tr>\n      <th>6</th>\n      <td></td>\n      <td>1</td>\n      <td>2022-01-03 16:10:25.221</td>\n    </tr>\n    <tr>\n      <th>7</th>\n      <td></td>\n      <td>false</td>\n      <td>2022-01-03 16:10:23.180</td>\n    </tr>\n    <tr>\n      <th>8</th>\n      <td></td>\n      <td>1</td>\n      <td>2022-01-03 16:10:21.494</td>\n    </tr>\n    <tr>\n      <th>9</th>\n      <td></td>\n      <td>false</td>\n      <td>2022-01-03 16:10:17.308</td>\n    </tr>\n    <tr>\n      <th>10</th>\n      <td></td>\n      <td>1</td>\n      <td>2022-01-03 16:10:14.251</td>\n    </tr>\n    <tr>\n      <th>11</th>\n      <td></td>\n      <td>1</td>\n      <td>2022-01-03 16:10:02.784</td>\n    </tr>\n    <tr>\n      <th>12</th>\n      <td></td>\n      <td>1</td>\n      <td>2022-01-03 16:05:44.479</td>\n    </tr>\n    <tr>\n      <th>13</th>\n      <td></td>\n      <td>false</td>\n      <td>2022-01-03 16:02:44.204</td>\n    </tr>\n    <tr>\n      <th>14</th>\n      <td></td>\n      <td>1</td>\n      <td>2022-01-03 16:02:33.076</td>\n    </tr>\n    <tr>\n      <th>15</th>\n      <td></td>\n      <td>1</td>\n      <td>2022-01-03 16:01:04.004</td>\n    </tr>\n    <tr>\n      <th>16</th>\n      <td></td>\n      <td>false</td>\n      <td>2022-01-03 15:59:40.954</td>\n    </tr>\n    <tr>\n      <th>17</th>\n      <td></td>\n      <td>1</td>\n      <td>2022-01-03 15:59:36.819</td>\n    </tr>\n    <tr>\n      <th>18</th>\n      <td></td>\n      <td>false</td>\n      <td>2022-01-03 15:59:14.313</td>\n    </tr>\n    <tr>\n      <th>19</th>\n      <td></td>\n      <td>1</td>\n      <td>2022-01-03 15:59:12.611</td>\n    </tr>\n  </tbody>\n</table>\n</div>"
     },
     "execution_count": 60,
     "metadata": {},
     "output_type": "execute_result"
    }
   ],
   "source": [
    "columns = ['key', \"query_input\", 'shortcut',  \"timestamp\"]\n",
    "columns.remove('key')\n",
    "\n",
    "df.orderBy(\"timestamp\", ascending=False).select(columns).toPandas()\n"
   ]
  },
  {
   "cell_type": "code",
   "execution_count": null,
   "outputs": [],
   "source": [],
   "metadata": {
    "collapsed": false,
    "pycharm": {
     "name": "#%%\n"
    }
   }
  }
 ],
 "metadata": {
  "kernelspec": {
   "display_name": "Python 3",
   "language": "python",
   "name": "python3"
  },
  "language_info": {
   "codemirror_mode": {
    "name": "ipython",
    "version": 3
   },
   "file_extension": ".py",
   "mimetype": "text/x-python",
   "name": "python",
   "nbconvert_exporter": "python",
   "pygments_lexer": "ipython3",
   "version": "3.10.1"
  }
 },
 "nbformat": 4,
 "nbformat_minor": 1
}
