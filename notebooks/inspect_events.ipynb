{
 "cells": [
  {
   "cell_type": "code",
   "execution_count": 1,
   "metadata": {
    "collapsed": true
   },
   "outputs": [
    {
     "name": "stderr",
     "output_type": "stream",
     "text": [
      "22/01/03 15:18:31 WARN NativeCodeLoader: Unable to load native-hadoop library for your platform... using builtin-java classes where applicable\n",
      "Using Spark's default log4j profile: org/apache/spark/log4j-defaults.properties\n",
      "Setting default log level to \"WARN\".\n",
      "To adjust logging level use sc.setLogLevel(newLevel). For SparkR, use setLogLevel(newLevel).\n",
      "22/01/03 15:18:32 WARN Utils: Service 'SparkUI' could not bind on port 4040. Attempting port 4041.\n",
      "                                                                                \r"
     ]
    }
   ],
   "source": [
    "from pyspark.sql.session import SparkSession\n",
    "\n",
    "spark = SparkSession.builder.getOrCreate()\n",
    "df = spark.read.format(\"parquet\").load(\"/data/python_search/data_warehouse/dataframes/mytopic\")"
   ]
  },
  {
   "cell_type": "code",
   "execution_count": 2,
   "outputs": [
    {
     "name": "stderr",
     "output_type": "stream",
     "text": [
      "[Stage 1:>                                                          (0 + 6) / 6]\r"
     ]
    },
    {
     "name": "stdout",
     "output_type": "stream",
     "text": [
      "+---------------+-----+--------------------+\n",
      "|        message|query|           timestamp|\n",
      "+---------------+-----+--------------------+\n",
      "|another message| null|2022-01-03 15:17:...|\n",
      "|another message| null|2022-01-03 15:17:...|\n",
      "|another message| null|2022-01-03 15:17:...|\n",
      "|another message| null|2022-01-03 15:10:...|\n",
      "|another message| null|2022-01-03 15:07:...|\n",
      "|another message| null|2022-01-03 15:05:...|\n",
      "|another message| null|2022-01-03 15:04:...|\n",
      "|another message| null|2022-01-03 15:04:...|\n",
      "|another message| null|2022-01-03 15:04:...|\n",
      "|another message| null|2022-01-03 15:04:...|\n",
      "|another message| null|2022-01-03 15:01:...|\n",
      "|another message| null|2022-01-03 15:01:...|\n",
      "|another message| null|2022-01-03 14:54:...|\n",
      "|another message| null|2022-01-03 14:34:...|\n",
      "|another message| null|2022-01-03 14:34:...|\n",
      "|another message| null|2022-01-03 14:34:...|\n",
      "|another message| null|2022-01-02 15:48:...|\n",
      "|    the message| null|2022-01-02 15:44:...|\n",
      "|    the message| null|2022-01-02 15:36:...|\n",
      "|    the message| null|2022-01-02 15:36:...|\n",
      "+---------------+-----+--------------------+\n",
      "only showing top 20 rows\n",
      "\n"
     ]
    },
    {
     "name": "stderr",
     "output_type": "stream",
     "text": [
      "                                                                                \r"
     ]
    }
   ],
   "source": [
    "df.orderBy(\"timestamp\", ascending=False).select(\"*\").show()\n"
   ],
   "metadata": {
    "collapsed": false,
    "pycharm": {
     "name": "#%%\n"
    }
   }
  },
  {
   "cell_type": "code",
   "execution_count": null,
   "outputs": [],
   "source": [],
   "metadata": {
    "collapsed": false,
    "pycharm": {
     "name": "#%%\n"
    }
   }
  }
 ],
 "metadata": {
  "kernelspec": {
   "display_name": "Python 3",
   "language": "python",
   "name": "python3"
  },
  "language_info": {
   "codemirror_mode": {
    "name": "ipython",
    "version": 2
   },
   "file_extension": ".py",
   "mimetype": "text/x-python",
   "name": "python",
   "nbconvert_exporter": "python",
   "pygments_lexer": "ipython2",
   "version": "2.7.6"
  }
 },
 "nbformat": 4,
 "nbformat_minor": 0
}
