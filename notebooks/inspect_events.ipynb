{
 "cells": [
  {
   "cell_type": "code",
   "execution_count": 1,
   "metadata": {},
   "outputs": [
    {
     "name": "stderr",
     "output_type": "stream",
     "text": [
      "22/01/08 11:46:05 WARN NativeCodeLoader: Unable to load native-hadoop library for your platform... using builtin-java classes where applicable\n",
      "Using Spark's default log4j profile: org/apache/spark/log4j-defaults.properties\n",
      "Setting default log level to \"WARN\".\n",
      "To adjust logging level use sc.setLogLevel(newLevel). For SparkR, use setLogLevel(newLevel).\n",
      "22/01/08 11:46:07 WARN Utils: Service 'SparkUI' could not bind on port 4040. Attempting port 4041.\n",
      "                                                                                \r"
     ]
    }
   ],
   "source": [
    "from pyspark.sql.session import SparkSession\n",
    "\n",
    "topic = 'SearchRunPerformed'\n",
    "spark = SparkSession.builder.getOrCreate()\n",
    "\n",
    "\n",
    "anonymize = False\n",
    "#anonymize = True\n",
    "df = spark.read.format(\"parquet\").load(f\"/data/python_search/data_warehouse/dataframes/{topic}\")"
   ]
  },
  {
   "cell_type": "markdown",
   "source": [
    "# Latest executed"
   ],
   "metadata": {
    "collapsed": false,
    "pycharm": {
     "name": "#%% md\n"
    }
   }
  },
  {
   "cell_type": "code",
   "execution_count": 2,
   "metadata": {
    "pycharm": {
     "name": "#%%\n"
    }
   },
   "outputs": [
    {
     "name": "stderr",
     "output_type": "stream",
     "text": [
      "                                                                                \r"
     ]
    },
    {
     "data": {
      "text/plain": "                                                    key query_input shortcut  \\\n0     saveclipboardtransformclipboardandregistertogr...                    1   \n1                       project python search run group                false   \n2                                  startsearchrunsearch                    1   \n3     saveclipboardtransformclipboardandregistertogr...                    1   \n4                                    spotifymusicplayer                    1   \n...                                                 ...         ...      ...   \n2375                               startsearchrunsearch                    1   \n2376                   accomplishments in life main doc                false   \n2377                               startsearchrunsearch                    1   \n2378           list existing kafka topics local machine                false   \n2379                               startsearchrunsearch                    1   \n\n                   timestamp  \n0    2022-01-08 11:45:19.440  \n1    2022-01-08 11:44:45.464  \n2    2022-01-08 11:44:39.766  \n3    2022-01-08 11:37:13.607  \n4    2022-01-08 11:37:03.839  \n...                      ...  \n2375 2022-01-03 16:01:04.004  \n2376 2022-01-03 15:59:40.954  \n2377 2022-01-03 15:59:36.819  \n2378 2022-01-03 15:59:14.313  \n2379 2022-01-03 15:59:12.611  \n\n[2380 rows x 4 columns]",
      "text/html": "<div>\n<style scoped>\n    .dataframe tbody tr th:only-of-type {\n        vertical-align: middle;\n    }\n\n    .dataframe tbody tr th {\n        vertical-align: top;\n    }\n\n    .dataframe thead th {\n        text-align: right;\n    }\n</style>\n<table border=\"1\" class=\"dataframe\">\n  <thead>\n    <tr style=\"text-align: right;\">\n      <th></th>\n      <th>key</th>\n      <th>query_input</th>\n      <th>shortcut</th>\n      <th>timestamp</th>\n    </tr>\n  </thead>\n  <tbody>\n    <tr>\n      <th>0</th>\n      <td>saveclipboardtransformclipboardandregistertogr...</td>\n      <td></td>\n      <td>1</td>\n      <td>2022-01-08 11:45:19.440</td>\n    </tr>\n    <tr>\n      <th>1</th>\n      <td>project python search run group</td>\n      <td></td>\n      <td>false</td>\n      <td>2022-01-08 11:44:45.464</td>\n    </tr>\n    <tr>\n      <th>2</th>\n      <td>startsearchrunsearch</td>\n      <td></td>\n      <td>1</td>\n      <td>2022-01-08 11:44:39.766</td>\n    </tr>\n    <tr>\n      <th>3</th>\n      <td>saveclipboardtransformclipboardandregistertogr...</td>\n      <td></td>\n      <td>1</td>\n      <td>2022-01-08 11:37:13.607</td>\n    </tr>\n    <tr>\n      <th>4</th>\n      <td>spotifymusicplayer</td>\n      <td></td>\n      <td>1</td>\n      <td>2022-01-08 11:37:03.839</td>\n    </tr>\n    <tr>\n      <th>...</th>\n      <td>...</td>\n      <td>...</td>\n      <td>...</td>\n      <td>...</td>\n    </tr>\n    <tr>\n      <th>2375</th>\n      <td>startsearchrunsearch</td>\n      <td></td>\n      <td>1</td>\n      <td>2022-01-03 16:01:04.004</td>\n    </tr>\n    <tr>\n      <th>2376</th>\n      <td>accomplishments in life main doc</td>\n      <td></td>\n      <td>false</td>\n      <td>2022-01-03 15:59:40.954</td>\n    </tr>\n    <tr>\n      <th>2377</th>\n      <td>startsearchrunsearch</td>\n      <td></td>\n      <td>1</td>\n      <td>2022-01-03 15:59:36.819</td>\n    </tr>\n    <tr>\n      <th>2378</th>\n      <td>list existing kafka topics local machine</td>\n      <td></td>\n      <td>false</td>\n      <td>2022-01-03 15:59:14.313</td>\n    </tr>\n    <tr>\n      <th>2379</th>\n      <td>startsearchrunsearch</td>\n      <td></td>\n      <td>1</td>\n      <td>2022-01-03 15:59:12.611</td>\n    </tr>\n  </tbody>\n</table>\n<p>2380 rows × 4 columns</p>\n</div>"
     },
     "execution_count": 2,
     "metadata": {},
     "output_type": "execute_result"
    }
   ],
   "source": [
    "columns = ['key', \"query_input\", 'shortcut',  \"timestamp\"]\n",
    "if anonymize:\n",
    "    columns.remove('key')\n",
    "\n",
    "df.orderBy(\"timestamp\", ascending=False).select(columns).toPandas()\n"
   ]
  },
  {
   "cell_type": "markdown",
   "source": [
    "# Most popular"
   ],
   "metadata": {
    "collapsed": false,
    "pycharm": {
     "name": "#%% md\n"
    }
   }
  },
  {
   "cell_type": "code",
   "execution_count": 7,
   "outputs": [
    {
     "name": "stderr",
     "output_type": "stream",
     "text": [
      "                                                                                \r"
     ]
    },
    {
     "data": {
      "text/plain": "                                                key  count\n0                              startsearchrunsearch    651\n1                                    googlecalendar    176\n2                             slackworkgetyourguide    171\n3                       inserttoinboxworkflowydmenu    161\n4                                spotifymusicplayer    129\n..                                              ...    ...\n271                   dataproducts meeting doc dsdp      1\n272                                githubgygwebsite      1\n273  mathieu data products spark clusters document       1\n274          great guy for senior in ml engineering      1\n275                   gzip encoding python example       1\n\n[276 rows x 2 columns]",
      "text/html": "<div>\n<style scoped>\n    .dataframe tbody tr th:only-of-type {\n        vertical-align: middle;\n    }\n\n    .dataframe tbody tr th {\n        vertical-align: top;\n    }\n\n    .dataframe thead th {\n        text-align: right;\n    }\n</style>\n<table border=\"1\" class=\"dataframe\">\n  <thead>\n    <tr style=\"text-align: right;\">\n      <th></th>\n      <th>key</th>\n      <th>count</th>\n    </tr>\n  </thead>\n  <tbody>\n    <tr>\n      <th>0</th>\n      <td>startsearchrunsearch</td>\n      <td>651</td>\n    </tr>\n    <tr>\n      <th>1</th>\n      <td>googlecalendar</td>\n      <td>176</td>\n    </tr>\n    <tr>\n      <th>2</th>\n      <td>slackworkgetyourguide</td>\n      <td>171</td>\n    </tr>\n    <tr>\n      <th>3</th>\n      <td>inserttoinboxworkflowydmenu</td>\n      <td>161</td>\n    </tr>\n    <tr>\n      <th>4</th>\n      <td>spotifymusicplayer</td>\n      <td>129</td>\n    </tr>\n    <tr>\n      <th>...</th>\n      <td>...</td>\n      <td>...</td>\n    </tr>\n    <tr>\n      <th>271</th>\n      <td>dataproducts meeting doc dsdp</td>\n      <td>1</td>\n    </tr>\n    <tr>\n      <th>272</th>\n      <td>githubgygwebsite</td>\n      <td>1</td>\n    </tr>\n    <tr>\n      <th>273</th>\n      <td>mathieu data products spark clusters document</td>\n      <td>1</td>\n    </tr>\n    <tr>\n      <th>274</th>\n      <td>great guy for senior in ml engineering</td>\n      <td>1</td>\n    </tr>\n    <tr>\n      <th>275</th>\n      <td>gzip encoding python example</td>\n      <td>1</td>\n    </tr>\n  </tbody>\n</table>\n<p>276 rows × 2 columns</p>\n</div>"
     },
     "execution_count": 7,
     "metadata": {},
     "output_type": "execute_result"
    }
   ],
   "source": [
    "most_popular = df.groupBy('key').count().orderBy('count', ascending=False)\n",
    "most_popular = most_popular.drop('key') if anonymize else most_popular\n",
    "most_popular.toPandas()"
   ],
   "metadata": {
    "collapsed": false,
    "pycharm": {
     "name": "#%%\n"
    }
   }
  },
  {
   "cell_type": "markdown",
   "source": [
    " ## most popular searched only"
   ],
   "metadata": {
    "collapsed": false,
    "pycharm": {
     "name": "#%% md\n"
    }
   }
  },
  {
   "cell_type": "markdown",
   "source": [],
   "metadata": {
    "collapsed": false,
    "pycharm": {
     "name": "#%% md\n"
    }
   }
  },
  {
   "cell_type": "code",
   "execution_count": null,
   "outputs": [],
   "source": [],
   "metadata": {
    "collapsed": false,
    "pycharm": {
     "name": "#%%\n"
    }
   }
  },
  {
   "cell_type": "code",
   "execution_count": 39,
   "outputs": [
    {
     "name": "stderr",
     "output_type": "stream",
     "text": [
      "                                                                                \r"
     ]
    },
    {
     "data": {
      "text/plain": "                                                   key query_input shortcut  \\\n0    be data products architecture ranking intervie...                false   \n1    tropic to spark 3 main document main migration...                false   \n2    tropic to spark 3 main document main migration...                false   \n3    managers expectations em engineer manager  ion...                false   \n4    ml platform plan time allocation tracking ml p...                false   \n..                                                 ...         ...      ...   \n396                             ranking apm production                false   \n397                             ranking apm production                false   \n398                                  ranking spinnaker                false   \n399                             ranking apm production                false   \n400                              redshift with restart                false   \n\n                  timestamp  \n0   2022-01-06 14:30:00.797  \n1   2022-01-05 13:38:41.370  \n2   2022-01-05 15:14:09.171  \n3   2022-01-07 14:33:07.034  \n4   2022-01-04 08:21:33.872  \n..                      ...  \n396 2022-01-06 16:42:45.585  \n397 2022-01-04 13:45:29.060  \n398 2022-01-04 09:32:04.245  \n399 2022-01-04 10:15:19.184  \n400 2022-01-06 16:43:04.827  \n\n[401 rows x 4 columns]",
      "text/html": "<div>\n<style scoped>\n    .dataframe tbody tr th:only-of-type {\n        vertical-align: middle;\n    }\n\n    .dataframe tbody tr th {\n        vertical-align: top;\n    }\n\n    .dataframe thead th {\n        text-align: right;\n    }\n</style>\n<table border=\"1\" class=\"dataframe\">\n  <thead>\n    <tr style=\"text-align: right;\">\n      <th></th>\n      <th>key</th>\n      <th>query_input</th>\n      <th>shortcut</th>\n      <th>timestamp</th>\n    </tr>\n  </thead>\n  <tbody>\n    <tr>\n      <th>0</th>\n      <td>be data products architecture ranking intervie...</td>\n      <td></td>\n      <td>false</td>\n      <td>2022-01-06 14:30:00.797</td>\n    </tr>\n    <tr>\n      <th>1</th>\n      <td>tropic to spark 3 main document main migration...</td>\n      <td></td>\n      <td>false</td>\n      <td>2022-01-05 13:38:41.370</td>\n    </tr>\n    <tr>\n      <th>2</th>\n      <td>tropic to spark 3 main document main migration...</td>\n      <td></td>\n      <td>false</td>\n      <td>2022-01-05 15:14:09.171</td>\n    </tr>\n    <tr>\n      <th>3</th>\n      <td>managers expectations em engineer manager  ion...</td>\n      <td></td>\n      <td>false</td>\n      <td>2022-01-07 14:33:07.034</td>\n    </tr>\n    <tr>\n      <th>4</th>\n      <td>ml platform plan time allocation tracking ml p...</td>\n      <td></td>\n      <td>false</td>\n      <td>2022-01-04 08:21:33.872</td>\n    </tr>\n    <tr>\n      <th>...</th>\n      <td>...</td>\n      <td>...</td>\n      <td>...</td>\n      <td>...</td>\n    </tr>\n    <tr>\n      <th>396</th>\n      <td>ranking apm production</td>\n      <td></td>\n      <td>false</td>\n      <td>2022-01-06 16:42:45.585</td>\n    </tr>\n    <tr>\n      <th>397</th>\n      <td>ranking apm production</td>\n      <td></td>\n      <td>false</td>\n      <td>2022-01-04 13:45:29.060</td>\n    </tr>\n    <tr>\n      <th>398</th>\n      <td>ranking spinnaker</td>\n      <td></td>\n      <td>false</td>\n      <td>2022-01-04 09:32:04.245</td>\n    </tr>\n    <tr>\n      <th>399</th>\n      <td>ranking apm production</td>\n      <td></td>\n      <td>false</td>\n      <td>2022-01-04 10:15:19.184</td>\n    </tr>\n    <tr>\n      <th>400</th>\n      <td>redshift with restart</td>\n      <td></td>\n      <td>false</td>\n      <td>2022-01-06 16:43:04.827</td>\n    </tr>\n  </tbody>\n</table>\n<p>401 rows × 4 columns</p>\n</div>"
     },
     "execution_count": 39,
     "metadata": {},
     "output_type": "execute_result"
    }
   ],
   "source": [
    "import pyspark.sql.functions as F\n",
    "\n",
    "most_popular_search = df.filter(F.col(\"shortcut\")  == False)\n",
    "most_popular_search = most_popular_search.groupBy('key').count().orderBy('count', ascending=False)\n",
    "most_popular_search.toPandas()"
   ],
   "metadata": {
    "collapsed": false,
    "pycharm": {
     "name": "#%%\n"
    }
   }
  },
  {
   "cell_type": "code",
   "execution_count": 31,
   "outputs": [
    {
     "name": "stdout",
     "output_type": "stream",
     "text": [
      "root\n",
      " |-- key: string (nullable = true)\n",
      " |-- query_input: string (nullable = true)\n",
      " |-- shortcut: string (nullable = true)\n",
      " |-- timestamp: timestamp (nullable = true)\n",
      "\n"
     ]
    }
   ],
   "source": [
    "df.printSchema()"
   ],
   "metadata": {
    "collapsed": false,
    "pycharm": {
     "name": "#%%\n"
    }
   }
  },
  {
   "cell_type": "code",
   "execution_count": 37,
   "outputs": [
    {
     "name": "stderr",
     "output_type": "stream",
     "text": [
      "                                                                                \r"
     ]
    },
    {
     "data": {
      "text/plain": "  shortcut\n0    false\n1        1",
      "text/html": "<div>\n<style scoped>\n    .dataframe tbody tr th:only-of-type {\n        vertical-align: middle;\n    }\n\n    .dataframe tbody tr th {\n        vertical-align: top;\n    }\n\n    .dataframe thead th {\n        text-align: right;\n    }\n</style>\n<table border=\"1\" class=\"dataframe\">\n  <thead>\n    <tr style=\"text-align: right;\">\n      <th></th>\n      <th>shortcut</th>\n    </tr>\n  </thead>\n  <tbody>\n    <tr>\n      <th>0</th>\n      <td>false</td>\n    </tr>\n    <tr>\n      <th>1</th>\n      <td>1</td>\n    </tr>\n  </tbody>\n</table>\n</div>"
     },
     "execution_count": 37,
     "metadata": {},
     "output_type": "execute_result"
    }
   ],
   "source": [
    "df.select(\"shortcut\").distinct().toPandas()"
   ],
   "metadata": {
    "collapsed": false,
    "pycharm": {
     "name": "#%%\n"
    }
   }
  },
  {
   "cell_type": "code",
   "execution_count": null,
   "outputs": [],
   "source": [],
   "metadata": {
    "collapsed": false,
    "pycharm": {
     "name": "#%%\n"
    }
   }
  }
 ],
 "metadata": {
  "kernelspec": {
   "display_name": "Python 3",
   "language": "python",
   "name": "python3"
  },
  "language_info": {
   "codemirror_mode": {
    "name": "ipython",
    "version": 3
   },
   "file_extension": ".py",
   "mimetype": "text/x-python",
   "name": "python",
   "nbconvert_exporter": "python",
   "pygments_lexer": "ipython3",
   "version": "3.10.1"
  }
 },
 "nbformat": 4,
 "nbformat_minor": 1
}