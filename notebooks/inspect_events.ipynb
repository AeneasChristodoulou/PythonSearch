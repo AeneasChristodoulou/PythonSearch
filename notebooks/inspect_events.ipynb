{
 "cells": [
  {
   "cell_type": "code",
   "execution_count": 42,
   "metadata": {},
   "outputs": [],
   "source": [
    "from pyspark.sql.session import SparkSession\n",
    "\n",
    "topic = 'SearchRunPerformed'\n",
    "spark = SparkSession.builder.getOrCreate()\n",
    "\n",
    "\n",
    "anonymize = False\n",
    "anonymize = True\n",
    "df = spark.read.format(\"parquet\").load(f\"/data/python_search/data_warehouse/dataframes/{topic}\")"
   ]
  },
  {
   "cell_type": "markdown",
   "source": [
    "# Latest executed"
   ],
   "metadata": {
    "collapsed": false,
    "pycharm": {
     "name": "#%% md\n"
    }
   }
  },
  {
   "cell_type": "code",
   "execution_count": 43,
   "metadata": {
    "pycharm": {
     "name": "#%%\n"
    }
   },
   "outputs": [
    {
     "name": "stderr",
     "output_type": "stream",
     "text": [
      "                                                                                \r"
     ]
    },
    {
     "data": {
      "text/plain": "     query_input shortcut               timestamp\n0                       1 2022-01-08 20:05:05.391\n1                       1 2022-01-08 20:05:03.482\n2                       1 2022-01-08 20:05:01.200\n3                       1 2022-01-08 20:04:50.311\n4                       1 2022-01-08 20:04:39.058\n...          ...      ...                     ...\n2406                    1 2022-01-03 16:01:04.004\n2407                false 2022-01-03 15:59:40.954\n2408                    1 2022-01-03 15:59:36.819\n2409                false 2022-01-03 15:59:14.313\n2410                    1 2022-01-03 15:59:12.611\n\n[2411 rows x 3 columns]",
      "text/html": "<div>\n<style scoped>\n    .dataframe tbody tr th:only-of-type {\n        vertical-align: middle;\n    }\n\n    .dataframe tbody tr th {\n        vertical-align: top;\n    }\n\n    .dataframe thead th {\n        text-align: right;\n    }\n</style>\n<table border=\"1\" class=\"dataframe\">\n  <thead>\n    <tr style=\"text-align: right;\">\n      <th></th>\n      <th>query_input</th>\n      <th>shortcut</th>\n      <th>timestamp</th>\n    </tr>\n  </thead>\n  <tbody>\n    <tr>\n      <th>0</th>\n      <td></td>\n      <td>1</td>\n      <td>2022-01-08 20:05:05.391</td>\n    </tr>\n    <tr>\n      <th>1</th>\n      <td></td>\n      <td>1</td>\n      <td>2022-01-08 20:05:03.482</td>\n    </tr>\n    <tr>\n      <th>2</th>\n      <td></td>\n      <td>1</td>\n      <td>2022-01-08 20:05:01.200</td>\n    </tr>\n    <tr>\n      <th>3</th>\n      <td></td>\n      <td>1</td>\n      <td>2022-01-08 20:04:50.311</td>\n    </tr>\n    <tr>\n      <th>4</th>\n      <td></td>\n      <td>1</td>\n      <td>2022-01-08 20:04:39.058</td>\n    </tr>\n    <tr>\n      <th>...</th>\n      <td>...</td>\n      <td>...</td>\n      <td>...</td>\n    </tr>\n    <tr>\n      <th>2406</th>\n      <td></td>\n      <td>1</td>\n      <td>2022-01-03 16:01:04.004</td>\n    </tr>\n    <tr>\n      <th>2407</th>\n      <td></td>\n      <td>false</td>\n      <td>2022-01-03 15:59:40.954</td>\n    </tr>\n    <tr>\n      <th>2408</th>\n      <td></td>\n      <td>1</td>\n      <td>2022-01-03 15:59:36.819</td>\n    </tr>\n    <tr>\n      <th>2409</th>\n      <td></td>\n      <td>false</td>\n      <td>2022-01-03 15:59:14.313</td>\n    </tr>\n    <tr>\n      <th>2410</th>\n      <td></td>\n      <td>1</td>\n      <td>2022-01-03 15:59:12.611</td>\n    </tr>\n  </tbody>\n</table>\n<p>2411 rows × 3 columns</p>\n</div>"
     },
     "execution_count": 43,
     "metadata": {},
     "output_type": "execute_result"
    }
   ],
   "source": [
    "columns = ['key', \"query_input\", 'shortcut',  \"timestamp\"]\n",
    "if anonymize:\n",
    "    columns.remove('key')\n",
    "\n",
    "df.orderBy(\"timestamp\", ascending=False).select(columns).toPandas()\n"
   ]
  },
  {
   "cell_type": "markdown",
   "source": [
    "# Most popular"
   ],
   "metadata": {
    "collapsed": false,
    "pycharm": {
     "name": "#%% md\n"
    }
   }
  },
  {
   "cell_type": "code",
   "execution_count": 44,
   "outputs": [
    {
     "name": "stderr",
     "output_type": "stream",
     "text": [
      "                                                                                \r"
     ]
    },
    {
     "data": {
      "text/plain": "     count\n0      659\n1      176\n2      171\n3      165\n4      130\n..     ...\n273      1\n274      1\n275      1\n276      1\n277      1\n\n[278 rows x 1 columns]",
      "text/html": "<div>\n<style scoped>\n    .dataframe tbody tr th:only-of-type {\n        vertical-align: middle;\n    }\n\n    .dataframe tbody tr th {\n        vertical-align: top;\n    }\n\n    .dataframe thead th {\n        text-align: right;\n    }\n</style>\n<table border=\"1\" class=\"dataframe\">\n  <thead>\n    <tr style=\"text-align: right;\">\n      <th></th>\n      <th>count</th>\n    </tr>\n  </thead>\n  <tbody>\n    <tr>\n      <th>0</th>\n      <td>659</td>\n    </tr>\n    <tr>\n      <th>1</th>\n      <td>176</td>\n    </tr>\n    <tr>\n      <th>2</th>\n      <td>171</td>\n    </tr>\n    <tr>\n      <th>3</th>\n      <td>165</td>\n    </tr>\n    <tr>\n      <th>4</th>\n      <td>130</td>\n    </tr>\n    <tr>\n      <th>...</th>\n      <td>...</td>\n    </tr>\n    <tr>\n      <th>273</th>\n      <td>1</td>\n    </tr>\n    <tr>\n      <th>274</th>\n      <td>1</td>\n    </tr>\n    <tr>\n      <th>275</th>\n      <td>1</td>\n    </tr>\n    <tr>\n      <th>276</th>\n      <td>1</td>\n    </tr>\n    <tr>\n      <th>277</th>\n      <td>1</td>\n    </tr>\n  </tbody>\n</table>\n<p>278 rows × 1 columns</p>\n</div>"
     },
     "execution_count": 44,
     "metadata": {},
     "output_type": "execute_result"
    }
   ],
   "source": [
    "most_popular = df.groupBy('key').count().orderBy('count', ascending=False)\n",
    "most_popular = most_popular.drop('key') if anonymize else most_popular\n",
    "most_popular.toPandas()"
   ],
   "metadata": {
    "collapsed": false,
    "pycharm": {
     "name": "#%%\n"
    }
   }
  },
  {
   "cell_type": "markdown",
   "source": [
    " ## most popular searched only"
   ],
   "metadata": {
    "collapsed": false,
    "pycharm": {
     "name": "#%% md\n"
    }
   }
  },
  {
   "cell_type": "markdown",
   "source": [],
   "metadata": {
    "collapsed": false,
    "pycharm": {
     "name": "#%% md\n"
    }
   }
  },
  {
   "cell_type": "code",
   "execution_count": 44,
   "outputs": [],
   "source": [],
   "metadata": {
    "collapsed": false,
    "pycharm": {
     "name": "#%%\n"
    }
   }
  },
  {
   "cell_type": "code",
   "execution_count": 47,
   "outputs": [
    {
     "name": "stderr",
     "output_type": "stream",
     "text": [
      "                                                                                \r"
     ]
    },
    {
     "data": {
      "text/plain": "     count\n0       21\n1       11\n2       11\n3       10\n4       10\n..     ...\n213      1\n214      1\n215      1\n216      1\n217      1\n\n[218 rows x 1 columns]",
      "text/html": "<div>\n<style scoped>\n    .dataframe tbody tr th:only-of-type {\n        vertical-align: middle;\n    }\n\n    .dataframe tbody tr th {\n        vertical-align: top;\n    }\n\n    .dataframe thead th {\n        text-align: right;\n    }\n</style>\n<table border=\"1\" class=\"dataframe\">\n  <thead>\n    <tr style=\"text-align: right;\">\n      <th></th>\n      <th>count</th>\n    </tr>\n  </thead>\n  <tbody>\n    <tr>\n      <th>0</th>\n      <td>21</td>\n    </tr>\n    <tr>\n      <th>1</th>\n      <td>11</td>\n    </tr>\n    <tr>\n      <th>2</th>\n      <td>11</td>\n    </tr>\n    <tr>\n      <th>3</th>\n      <td>10</td>\n    </tr>\n    <tr>\n      <th>4</th>\n      <td>10</td>\n    </tr>\n    <tr>\n      <th>...</th>\n      <td>...</td>\n    </tr>\n    <tr>\n      <th>213</th>\n      <td>1</td>\n    </tr>\n    <tr>\n      <th>214</th>\n      <td>1</td>\n    </tr>\n    <tr>\n      <th>215</th>\n      <td>1</td>\n    </tr>\n    <tr>\n      <th>216</th>\n      <td>1</td>\n    </tr>\n    <tr>\n      <th>217</th>\n      <td>1</td>\n    </tr>\n  </tbody>\n</table>\n<p>218 rows × 1 columns</p>\n</div>"
     },
     "execution_count": 47,
     "metadata": {},
     "output_type": "execute_result"
    }
   ],
   "source": [
    "import pyspark.sql.functions as F\n",
    "\n",
    "most_popular_search = df.filter(F.col(\"shortcut\")  == False)\n",
    "most_popular_search = most_popular_search.groupBy('key').count().orderBy('count', ascending=False)\n",
    "most_popular_search = most_popular_search.drop('key') if anonymize else most_popular\n",
    "most_popular_search.toPandas()"
   ],
   "metadata": {
    "collapsed": false,
    "pycharm": {
     "name": "#%%\n"
    }
   }
  },
  {
   "cell_type": "code",
   "execution_count": 31,
   "outputs": [
    {
     "name": "stdout",
     "output_type": "stream",
     "text": [
      "root\n",
      " |-- key: string (nullable = true)\n",
      " |-- query_input: string (nullable = true)\n",
      " |-- shortcut: string (nullable = true)\n",
      " |-- timestamp: timestamp (nullable = true)\n",
      "\n"
     ]
    }
   ],
   "source": [
    "df.printSchema()"
   ],
   "metadata": {
    "collapsed": false,
    "pycharm": {
     "name": "#%%\n"
    }
   }
  },
  {
   "cell_type": "code",
   "execution_count": 37,
   "outputs": [
    {
     "name": "stderr",
     "output_type": "stream",
     "text": [
      "                                                                                \r"
     ]
    },
    {
     "data": {
      "text/plain": "  shortcut\n0    false\n1        1",
      "text/html": "<div>\n<style scoped>\n    .dataframe tbody tr th:only-of-type {\n        vertical-align: middle;\n    }\n\n    .dataframe tbody tr th {\n        vertical-align: top;\n    }\n\n    .dataframe thead th {\n        text-align: right;\n    }\n</style>\n<table border=\"1\" class=\"dataframe\">\n  <thead>\n    <tr style=\"text-align: right;\">\n      <th></th>\n      <th>shortcut</th>\n    </tr>\n  </thead>\n  <tbody>\n    <tr>\n      <th>0</th>\n      <td>false</td>\n    </tr>\n    <tr>\n      <th>1</th>\n      <td>1</td>\n    </tr>\n  </tbody>\n</table>\n</div>"
     },
     "execution_count": 37,
     "metadata": {},
     "output_type": "execute_result"
    }
   ],
   "source": [
    "df.select(\"shortcut\").distinct().toPandas()"
   ],
   "metadata": {
    "collapsed": false,
    "pycharm": {
     "name": "#%%\n"
    }
   }
  },
  {
   "cell_type": "code",
   "execution_count": null,
   "outputs": [],
   "source": [],
   "metadata": {
    "collapsed": false,
    "pycharm": {
     "name": "#%%\n"
    }
   }
  }
 ],
 "metadata": {
  "kernelspec": {
   "display_name": "Python 3",
   "language": "python",
   "name": "python3"
  },
  "language_info": {
   "codemirror_mode": {
    "name": "ipython",
    "version": 3
   },
   "file_extension": ".py",
   "mimetype": "text/x-python",
   "name": "python",
   "nbconvert_exporter": "python",
   "pygments_lexer": "ipython3",
   "version": "3.10.1"
  }
 },
 "nbformat": 4,
 "nbformat_minor": 1
}