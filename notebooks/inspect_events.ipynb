{
 "cells": [
  {
   "cell_type": "code",
   "execution_count": 91,
   "metadata": {},
   "outputs": [],
   "source": [
    "from pyspark.sql.session import SparkSession\n",
    "\n",
    "topic = 'SearchRunPerformed'\n",
    "\n",
    "anonymize = False\n",
    "anonymize = True\n",
    "df = spark.read.format(\"parquet\").load(f\"/data/python_search/data_warehouse/dataframes/{topic}\")"
   ]
  },
  {
   "cell_type": "code",
   "execution_count": 92,
   "metadata": {
    "pycharm": {
     "name": "#%%\n"
    }
   },
   "outputs": [
    {
     "data": {
      "text/plain": "   query_input shortcut               timestamp\n0                     1 2022-01-03 16:35:48.696\n1                     1 2022-01-03 16:35:34.245\n2                     1 2022-01-03 16:33:15.446\n3                     1 2022-01-03 16:33:02.887\n4                     1 2022-01-03 16:32:28.512\n5                     1 2022-01-03 16:31:51.284\n6                     1 2022-01-03 16:31:48.480\n7                 false 2022-01-03 16:31:36.118\n8                 false 2022-01-03 16:30:48.631\n9                 false 2022-01-03 16:30:15.524\n10                false 2022-01-03 16:30:02.260\n11                    1 2022-01-03 16:29:55.715\n12                    1 2022-01-03 16:28:38.848\n13                    1 2022-01-03 16:28:29.520\n14                    1 2022-01-03 16:28:29.358\n15                    1 2022-01-03 16:27:34.891\n16                    1 2022-01-03 16:27:31.205\n17                    1 2022-01-03 16:27:23.888\n18                    1 2022-01-03 16:26:12.864\n19                    1 2022-01-03 16:24:34.888\n20                    1 2022-01-03 16:24:18.474\n21                    1 2022-01-03 16:23:52.430\n22                    1 2022-01-03 16:18:53.134\n23                false 2022-01-03 16:17:38.852\n24                false 2022-01-03 16:17:19.350\n25                    1 2022-01-03 16:17:16.300\n26                false 2022-01-03 16:17:11.562\n27                    1 2022-01-03 16:17:07.478\n28                    1 2022-01-03 16:15:45.339\n29                false 2022-01-03 16:11:54.701\n30                    1 2022-01-03 16:11:51.635\n31                false 2022-01-03 16:11:15.334\n32                    1 2022-01-03 16:11:12.090\n33                    1 2022-01-03 16:10:58.681\n34                    1 2022-01-03 16:10:51.472\n35                    1 2022-01-03 16:10:25.221\n36                false 2022-01-03 16:10:23.180\n37                    1 2022-01-03 16:10:21.494\n38                false 2022-01-03 16:10:17.308\n39                    1 2022-01-03 16:10:14.251\n40                    1 2022-01-03 16:10:02.784\n41                    1 2022-01-03 16:05:44.479\n42                false 2022-01-03 16:02:44.204\n43                    1 2022-01-03 16:02:33.076\n44                    1 2022-01-03 16:01:04.004\n45                false 2022-01-03 15:59:40.954\n46                    1 2022-01-03 15:59:36.819\n47                false 2022-01-03 15:59:14.313\n48                    1 2022-01-03 15:59:12.611",
      "text/html": "<div>\n<style scoped>\n    .dataframe tbody tr th:only-of-type {\n        vertical-align: middle;\n    }\n\n    .dataframe tbody tr th {\n        vertical-align: top;\n    }\n\n    .dataframe thead th {\n        text-align: right;\n    }\n</style>\n<table border=\"1\" class=\"dataframe\">\n  <thead>\n    <tr style=\"text-align: right;\">\n      <th></th>\n      <th>query_input</th>\n      <th>shortcut</th>\n      <th>timestamp</th>\n    </tr>\n  </thead>\n  <tbody>\n    <tr>\n      <th>0</th>\n      <td></td>\n      <td>1</td>\n      <td>2022-01-03 16:35:48.696</td>\n    </tr>\n    <tr>\n      <th>1</th>\n      <td></td>\n      <td>1</td>\n      <td>2022-01-03 16:35:34.245</td>\n    </tr>\n    <tr>\n      <th>2</th>\n      <td></td>\n      <td>1</td>\n      <td>2022-01-03 16:33:15.446</td>\n    </tr>\n    <tr>\n      <th>3</th>\n      <td></td>\n      <td>1</td>\n      <td>2022-01-03 16:33:02.887</td>\n    </tr>\n    <tr>\n      <th>4</th>\n      <td></td>\n      <td>1</td>\n      <td>2022-01-03 16:32:28.512</td>\n    </tr>\n    <tr>\n      <th>5</th>\n      <td></td>\n      <td>1</td>\n      <td>2022-01-03 16:31:51.284</td>\n    </tr>\n    <tr>\n      <th>6</th>\n      <td></td>\n      <td>1</td>\n      <td>2022-01-03 16:31:48.480</td>\n    </tr>\n    <tr>\n      <th>7</th>\n      <td></td>\n      <td>false</td>\n      <td>2022-01-03 16:31:36.118</td>\n    </tr>\n    <tr>\n      <th>8</th>\n      <td></td>\n      <td>false</td>\n      <td>2022-01-03 16:30:48.631</td>\n    </tr>\n    <tr>\n      <th>9</th>\n      <td></td>\n      <td>false</td>\n      <td>2022-01-03 16:30:15.524</td>\n    </tr>\n    <tr>\n      <th>10</th>\n      <td></td>\n      <td>false</td>\n      <td>2022-01-03 16:30:02.260</td>\n    </tr>\n    <tr>\n      <th>11</th>\n      <td></td>\n      <td>1</td>\n      <td>2022-01-03 16:29:55.715</td>\n    </tr>\n    <tr>\n      <th>12</th>\n      <td></td>\n      <td>1</td>\n      <td>2022-01-03 16:28:38.848</td>\n    </tr>\n    <tr>\n      <th>13</th>\n      <td></td>\n      <td>1</td>\n      <td>2022-01-03 16:28:29.520</td>\n    </tr>\n    <tr>\n      <th>14</th>\n      <td></td>\n      <td>1</td>\n      <td>2022-01-03 16:28:29.358</td>\n    </tr>\n    <tr>\n      <th>15</th>\n      <td></td>\n      <td>1</td>\n      <td>2022-01-03 16:27:34.891</td>\n    </tr>\n    <tr>\n      <th>16</th>\n      <td></td>\n      <td>1</td>\n      <td>2022-01-03 16:27:31.205</td>\n    </tr>\n    <tr>\n      <th>17</th>\n      <td></td>\n      <td>1</td>\n      <td>2022-01-03 16:27:23.888</td>\n    </tr>\n    <tr>\n      <th>18</th>\n      <td></td>\n      <td>1</td>\n      <td>2022-01-03 16:26:12.864</td>\n    </tr>\n    <tr>\n      <th>19</th>\n      <td></td>\n      <td>1</td>\n      <td>2022-01-03 16:24:34.888</td>\n    </tr>\n    <tr>\n      <th>20</th>\n      <td></td>\n      <td>1</td>\n      <td>2022-01-03 16:24:18.474</td>\n    </tr>\n    <tr>\n      <th>21</th>\n      <td></td>\n      <td>1</td>\n      <td>2022-01-03 16:23:52.430</td>\n    </tr>\n    <tr>\n      <th>22</th>\n      <td></td>\n      <td>1</td>\n      <td>2022-01-03 16:18:53.134</td>\n    </tr>\n    <tr>\n      <th>23</th>\n      <td></td>\n      <td>false</td>\n      <td>2022-01-03 16:17:38.852</td>\n    </tr>\n    <tr>\n      <th>24</th>\n      <td></td>\n      <td>false</td>\n      <td>2022-01-03 16:17:19.350</td>\n    </tr>\n    <tr>\n      <th>25</th>\n      <td></td>\n      <td>1</td>\n      <td>2022-01-03 16:17:16.300</td>\n    </tr>\n    <tr>\n      <th>26</th>\n      <td></td>\n      <td>false</td>\n      <td>2022-01-03 16:17:11.562</td>\n    </tr>\n    <tr>\n      <th>27</th>\n      <td></td>\n      <td>1</td>\n      <td>2022-01-03 16:17:07.478</td>\n    </tr>\n    <tr>\n      <th>28</th>\n      <td></td>\n      <td>1</td>\n      <td>2022-01-03 16:15:45.339</td>\n    </tr>\n    <tr>\n      <th>29</th>\n      <td></td>\n      <td>false</td>\n      <td>2022-01-03 16:11:54.701</td>\n    </tr>\n    <tr>\n      <th>30</th>\n      <td></td>\n      <td>1</td>\n      <td>2022-01-03 16:11:51.635</td>\n    </tr>\n    <tr>\n      <th>31</th>\n      <td></td>\n      <td>false</td>\n      <td>2022-01-03 16:11:15.334</td>\n    </tr>\n    <tr>\n      <th>32</th>\n      <td></td>\n      <td>1</td>\n      <td>2022-01-03 16:11:12.090</td>\n    </tr>\n    <tr>\n      <th>33</th>\n      <td></td>\n      <td>1</td>\n      <td>2022-01-03 16:10:58.681</td>\n    </tr>\n    <tr>\n      <th>34</th>\n      <td></td>\n      <td>1</td>\n      <td>2022-01-03 16:10:51.472</td>\n    </tr>\n    <tr>\n      <th>35</th>\n      <td></td>\n      <td>1</td>\n      <td>2022-01-03 16:10:25.221</td>\n    </tr>\n    <tr>\n      <th>36</th>\n      <td></td>\n      <td>false</td>\n      <td>2022-01-03 16:10:23.180</td>\n    </tr>\n    <tr>\n      <th>37</th>\n      <td></td>\n      <td>1</td>\n      <td>2022-01-03 16:10:21.494</td>\n    </tr>\n    <tr>\n      <th>38</th>\n      <td></td>\n      <td>false</td>\n      <td>2022-01-03 16:10:17.308</td>\n    </tr>\n    <tr>\n      <th>39</th>\n      <td></td>\n      <td>1</td>\n      <td>2022-01-03 16:10:14.251</td>\n    </tr>\n    <tr>\n      <th>40</th>\n      <td></td>\n      <td>1</td>\n      <td>2022-01-03 16:10:02.784</td>\n    </tr>\n    <tr>\n      <th>41</th>\n      <td></td>\n      <td>1</td>\n      <td>2022-01-03 16:05:44.479</td>\n    </tr>\n    <tr>\n      <th>42</th>\n      <td></td>\n      <td>false</td>\n      <td>2022-01-03 16:02:44.204</td>\n    </tr>\n    <tr>\n      <th>43</th>\n      <td></td>\n      <td>1</td>\n      <td>2022-01-03 16:02:33.076</td>\n    </tr>\n    <tr>\n      <th>44</th>\n      <td></td>\n      <td>1</td>\n      <td>2022-01-03 16:01:04.004</td>\n    </tr>\n    <tr>\n      <th>45</th>\n      <td></td>\n      <td>false</td>\n      <td>2022-01-03 15:59:40.954</td>\n    </tr>\n    <tr>\n      <th>46</th>\n      <td></td>\n      <td>1</td>\n      <td>2022-01-03 15:59:36.819</td>\n    </tr>\n    <tr>\n      <th>47</th>\n      <td></td>\n      <td>false</td>\n      <td>2022-01-03 15:59:14.313</td>\n    </tr>\n    <tr>\n      <th>48</th>\n      <td></td>\n      <td>1</td>\n      <td>2022-01-03 15:59:12.611</td>\n    </tr>\n  </tbody>\n</table>\n</div>"
     },
     "execution_count": 92,
     "metadata": {},
     "output_type": "execute_result"
    }
   ],
   "source": [
    "columns = ['key', \"query_input\", 'shortcut',  \"timestamp\"]\n",
    "if anonymize:\n",
    "    columns.remove('key')\n",
    "\n",
    "df.orderBy(\"timestamp\", ascending=False).select(columns).toPandas()\n"
   ]
  },
  {
   "cell_type": "code",
   "execution_count": 93,
   "outputs": [
    {
     "data": {
      "text/plain": "    count\n0      20\n1       4\n2       3\n3       3\n4       3\n5       2\n6       2\n7       2\n8       1\n9       1\n10      1\n11      1\n12      1\n13      1\n14      1\n15      1\n16      1\n17      1",
      "text/html": "<div>\n<style scoped>\n    .dataframe tbody tr th:only-of-type {\n        vertical-align: middle;\n    }\n\n    .dataframe tbody tr th {\n        vertical-align: top;\n    }\n\n    .dataframe thead th {\n        text-align: right;\n    }\n</style>\n<table border=\"1\" class=\"dataframe\">\n  <thead>\n    <tr style=\"text-align: right;\">\n      <th></th>\n      <th>count</th>\n    </tr>\n  </thead>\n  <tbody>\n    <tr>\n      <th>0</th>\n      <td>20</td>\n    </tr>\n    <tr>\n      <th>1</th>\n      <td>4</td>\n    </tr>\n    <tr>\n      <th>2</th>\n      <td>3</td>\n    </tr>\n    <tr>\n      <th>3</th>\n      <td>3</td>\n    </tr>\n    <tr>\n      <th>4</th>\n      <td>3</td>\n    </tr>\n    <tr>\n      <th>5</th>\n      <td>2</td>\n    </tr>\n    <tr>\n      <th>6</th>\n      <td>2</td>\n    </tr>\n    <tr>\n      <th>7</th>\n      <td>2</td>\n    </tr>\n    <tr>\n      <th>8</th>\n      <td>1</td>\n    </tr>\n    <tr>\n      <th>9</th>\n      <td>1</td>\n    </tr>\n    <tr>\n      <th>10</th>\n      <td>1</td>\n    </tr>\n    <tr>\n      <th>11</th>\n      <td>1</td>\n    </tr>\n    <tr>\n      <th>12</th>\n      <td>1</td>\n    </tr>\n    <tr>\n      <th>13</th>\n      <td>1</td>\n    </tr>\n    <tr>\n      <th>14</th>\n      <td>1</td>\n    </tr>\n    <tr>\n      <th>15</th>\n      <td>1</td>\n    </tr>\n    <tr>\n      <th>16</th>\n      <td>1</td>\n    </tr>\n    <tr>\n      <th>17</th>\n      <td>1</td>\n    </tr>\n  </tbody>\n</table>\n</div>"
     },
     "execution_count": 93,
     "metadata": {},
     "output_type": "execute_result"
    }
   ],
   "source": [
    "most_popular = df.groupBy('key').count().orderBy('count', ascending=False)\n",
    "most_popular = most_popular.drop('key') if anonymize else most_popular\n",
    "most_popular.toPandas()"
   ],
   "metadata": {
    "collapsed": false,
    "pycharm": {
     "name": "#%%\n"
    }
   }
  },
  {
   "cell_type": "code",
   "execution_count": 93,
   "outputs": [],
   "source": [],
   "metadata": {
    "collapsed": false,
    "pycharm": {
     "name": "#%%\n"
    }
   }
  },
  {
   "cell_type": "code",
   "execution_count": 93,
   "outputs": [],
   "source": [],
   "metadata": {
    "collapsed": false,
    "pycharm": {
     "name": "#%%\n"
    }
   }
  },
  {
   "cell_type": "code",
   "execution_count": null,
   "outputs": [],
   "source": [],
   "metadata": {
    "collapsed": false,
    "pycharm": {
     "name": "#%%\n"
    }
   }
  }
 ],
 "metadata": {
  "kernelspec": {
   "display_name": "Python 3",
   "language": "python",
   "name": "python3"
  },
  "language_info": {
   "codemirror_mode": {
    "name": "ipython",
    "version": 3
   },
   "file_extension": ".py",
   "mimetype": "text/x-python",
   "name": "python",
   "nbconvert_exporter": "python",
   "pygments_lexer": "ipython3",
   "version": "3.10.1"
  }
 },
 "nbformat": 4,
 "nbformat_minor": 1
}
