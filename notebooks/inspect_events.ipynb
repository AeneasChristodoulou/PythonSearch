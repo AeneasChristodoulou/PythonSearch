{
 "cells": [
  {
   "cell_type": "code",
   "execution_count": 19,
   "metadata": {
    "collapsed": true
   },
   "outputs": [],
   "source": [
    "from pyspark.sql.session import SparkSession\n",
    "\n",
    "spark = SparkSession.builder.getOrCreate()\n",
    "df = spark.read.format(\"parquet\").load(\"/data/python_search/data_warehouse/dataframes/mytopic\")"
   ]
  },
  {
   "cell_type": "code",
   "execution_count": 20,
   "outputs": [
    {
     "name": "stdout",
     "output_type": "stream",
     "text": [
      "+---------------+-----+--------------------+\n",
      "|        message|query|           timestamp|\n",
      "+---------------+-----+--------------------+\n",
      "|another message| null|2022-01-02 15:48:...|\n",
      "|    the message| null|2022-01-02 15:44:...|\n",
      "|    the message| null|2022-01-02 15:36:...|\n",
      "|    the message| null|2022-01-02 15:36:...|\n",
      "|    the message| null|2022-01-02 15:36:...|\n",
      "|    the message| null|2022-01-02 15:36:...|\n",
      "|    the message| null|2022-01-02 15:31:...|\n",
      "|    the message| null|2022-01-02 15:31:...|\n",
      "|    the message| null|2022-01-02 15:31:...|\n",
      "+---------------+-----+--------------------+\n",
      "\n"
     ]
    }
   ],
   "source": [
    "df.orderBy(\"timestamp\", ascending=False).select(\"*\").show()\n"
   ],
   "metadata": {
    "collapsed": false,
    "pycharm": {
     "name": "#%%\n"
    }
   }
  },
  {
   "cell_type": "code",
   "execution_count": null,
   "outputs": [],
   "source": [],
   "metadata": {
    "collapsed": false,
    "pycharm": {
     "name": "#%%\n"
    }
   }
  },
  {
   "cell_type": "code",
   "execution_count": null,
   "outputs": [],
   "source": [],
   "metadata": {
    "collapsed": false,
    "pycharm": {
     "name": "#%%\n"
    }
   }
  }
 ],
 "metadata": {
  "kernelspec": {
   "display_name": "Python 3",
   "language": "python",
   "name": "python3"
  },
  "language_info": {
   "codemirror_mode": {
    "name": "ipython",
    "version": 2
   },
   "file_extension": ".py",
   "mimetype": "text/x-python",
   "name": "python",
   "nbconvert_exporter": "python",
   "pygments_lexer": "ipython2",
   "version": "2.7.6"
  }
 },
 "nbformat": 4,
 "nbformat_minor": 0
}
