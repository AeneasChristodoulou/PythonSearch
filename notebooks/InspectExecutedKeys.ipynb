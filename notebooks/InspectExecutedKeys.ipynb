{
 "cells": [
  {
   "cell_type": "code",
   "execution_count": 18,
   "metadata": {},
   "outputs": [],
   "source": [
    "from pyspark.sql.session import SparkSession\n",
    "\n",
    "topic = 'SearchRunPerformed'\n",
    "spark = SparkSession.builder.getOrCreate()\n",
    "\n",
    "\n",
    "anonymize = False\n",
    "anonymize = True\n",
    "df = spark.read.format(\"parquet\").load(f\"/data/python_search/data_warehouse/dataframes/{topic}\")"
   ]
  },
  {
   "cell_type": "markdown",
   "source": [
    "# Latest executed"
   ],
   "metadata": {
    "collapsed": false,
    "pycharm": {
     "name": "#%% md\n"
    }
   }
  },
  {
   "cell_type": "code",
   "execution_count": 19,
   "metadata": {
    "pycharm": {
     "name": "#%%\n"
    }
   },
   "outputs": [
    {
     "name": "stderr",
     "output_type": "stream",
     "text": [
      "                                                                                \r"
     ]
    },
    {
     "data": {
      "text/plain": "     query_input shortcut               timestamp\n0                       1 2022-01-15 19:51:08.320\n1                       1 2022-01-15 19:50:35.284\n2                   false 2022-01-15 19:50:18.844\n3                       1 2022-01-15 19:50:18.340\n4                   false 2022-01-15 19:49:48.260\n...          ...      ...                     ...\n5184                    1 2022-01-03 16:01:04.004\n5185                false 2022-01-03 15:59:40.954\n5186                    1 2022-01-03 15:59:36.819\n5187                false 2022-01-03 15:59:14.313\n5188                    1 2022-01-03 15:59:12.611\n\n[5189 rows x 3 columns]",
      "text/html": "<div>\n<style scoped>\n    .dataframe tbody tr th:only-of-type {\n        vertical-align: middle;\n    }\n\n    .dataframe tbody tr th {\n        vertical-align: top;\n    }\n\n    .dataframe thead th {\n        text-align: right;\n    }\n</style>\n<table border=\"1\" class=\"dataframe\">\n  <thead>\n    <tr style=\"text-align: right;\">\n      <th></th>\n      <th>query_input</th>\n      <th>shortcut</th>\n      <th>timestamp</th>\n    </tr>\n  </thead>\n  <tbody>\n    <tr>\n      <th>0</th>\n      <td></td>\n      <td>1</td>\n      <td>2022-01-15 19:51:08.320</td>\n    </tr>\n    <tr>\n      <th>1</th>\n      <td></td>\n      <td>1</td>\n      <td>2022-01-15 19:50:35.284</td>\n    </tr>\n    <tr>\n      <th>2</th>\n      <td></td>\n      <td>false</td>\n      <td>2022-01-15 19:50:18.844</td>\n    </tr>\n    <tr>\n      <th>3</th>\n      <td></td>\n      <td>1</td>\n      <td>2022-01-15 19:50:18.340</td>\n    </tr>\n    <tr>\n      <th>4</th>\n      <td></td>\n      <td>false</td>\n      <td>2022-01-15 19:49:48.260</td>\n    </tr>\n    <tr>\n      <th>...</th>\n      <td>...</td>\n      <td>...</td>\n      <td>...</td>\n    </tr>\n    <tr>\n      <th>5184</th>\n      <td></td>\n      <td>1</td>\n      <td>2022-01-03 16:01:04.004</td>\n    </tr>\n    <tr>\n      <th>5185</th>\n      <td></td>\n      <td>false</td>\n      <td>2022-01-03 15:59:40.954</td>\n    </tr>\n    <tr>\n      <th>5186</th>\n      <td></td>\n      <td>1</td>\n      <td>2022-01-03 15:59:36.819</td>\n    </tr>\n    <tr>\n      <th>5187</th>\n      <td></td>\n      <td>false</td>\n      <td>2022-01-03 15:59:14.313</td>\n    </tr>\n    <tr>\n      <th>5188</th>\n      <td></td>\n      <td>1</td>\n      <td>2022-01-03 15:59:12.611</td>\n    </tr>\n  </tbody>\n</table>\n<p>5189 rows × 3 columns</p>\n</div>"
     },
     "execution_count": 19,
     "metadata": {},
     "output_type": "execute_result"
    }
   ],
   "source": [
    "columns = ['key', \"query_input\", 'shortcut',  \"timestamp\"]\n",
    "if anonymize:\n",
    "    columns.remove('key')\n",
    "\n",
    "df.orderBy(\"timestamp\", ascending=False).select(columns).toPandas()\n"
   ]
  },
  {
   "cell_type": "code",
   "execution_count": 20,
   "outputs": [
    {
     "name": "stderr",
     "output_type": "stream",
     "text": [
      "                                                                                \r"
     ]
    },
    {
     "data": {
      "text/plain": "     count\n0      687\n1      422\n2      378\n3      375\n4      328\n..     ...\n503      1\n504      1\n505      1\n506      1\n507      1\n\n[508 rows x 1 columns]",
      "text/html": "<div>\n<style scoped>\n    .dataframe tbody tr th:only-of-type {\n        vertical-align: middle;\n    }\n\n    .dataframe tbody tr th {\n        vertical-align: top;\n    }\n\n    .dataframe thead th {\n        text-align: right;\n    }\n</style>\n<table border=\"1\" class=\"dataframe\">\n  <thead>\n    <tr style=\"text-align: right;\">\n      <th></th>\n      <th>count</th>\n    </tr>\n  </thead>\n  <tbody>\n    <tr>\n      <th>0</th>\n      <td>687</td>\n    </tr>\n    <tr>\n      <th>1</th>\n      <td>422</td>\n    </tr>\n    <tr>\n      <th>2</th>\n      <td>378</td>\n    </tr>\n    <tr>\n      <th>3</th>\n      <td>375</td>\n    </tr>\n    <tr>\n      <th>4</th>\n      <td>328</td>\n    </tr>\n    <tr>\n      <th>...</th>\n      <td>...</td>\n    </tr>\n    <tr>\n      <th>503</th>\n      <td>1</td>\n    </tr>\n    <tr>\n      <th>504</th>\n      <td>1</td>\n    </tr>\n    <tr>\n      <th>505</th>\n      <td>1</td>\n    </tr>\n    <tr>\n      <th>506</th>\n      <td>1</td>\n    </tr>\n    <tr>\n      <th>507</th>\n      <td>1</td>\n    </tr>\n  </tbody>\n</table>\n<p>508 rows × 1 columns</p>\n</div>"
     },
     "execution_count": 20,
     "metadata": {},
     "output_type": "execute_result"
    }
   ],
   "source": [
    "most_popular = df.groupBy('key').count().orderBy('count', ascending=False)\n",
    "most_popular = most_popular.drop('key') if anonymize else most_popular\n",
    "most_popular.toPandas()"
   ],
   "metadata": {
    "collapsed": false,
    "pycharm": {
     "name": "#%%\n"
    }
   }
  },
  {
   "cell_type": "markdown",
   "source": [
    " ## most popular searched only"
   ],
   "metadata": {
    "collapsed": false,
    "pycharm": {
     "name": "#%% md\n"
    }
   }
  },
  {
   "cell_type": "markdown",
   "source": [],
   "metadata": {
    "collapsed": false,
    "pycharm": {
     "name": "#%% md\n"
    }
   }
  },
  {
   "cell_type": "code",
   "execution_count": 21,
   "outputs": [
    {
     "name": "stderr",
     "output_type": "stream",
     "text": [
      "                                                                                \r"
     ]
    },
    {
     "data": {
      "text/plain": "     count\n0      328\n1       31\n2       21\n3       17\n4       13\n..     ...\n430      1\n431      1\n432      1\n433      1\n434      1\n\n[435 rows x 1 columns]",
      "text/html": "<div>\n<style scoped>\n    .dataframe tbody tr th:only-of-type {\n        vertical-align: middle;\n    }\n\n    .dataframe tbody tr th {\n        vertical-align: top;\n    }\n\n    .dataframe thead th {\n        text-align: right;\n    }\n</style>\n<table border=\"1\" class=\"dataframe\">\n  <thead>\n    <tr style=\"text-align: right;\">\n      <th></th>\n      <th>count</th>\n    </tr>\n  </thead>\n  <tbody>\n    <tr>\n      <th>0</th>\n      <td>328</td>\n    </tr>\n    <tr>\n      <th>1</th>\n      <td>31</td>\n    </tr>\n    <tr>\n      <th>2</th>\n      <td>21</td>\n    </tr>\n    <tr>\n      <th>3</th>\n      <td>17</td>\n    </tr>\n    <tr>\n      <th>4</th>\n      <td>13</td>\n    </tr>\n    <tr>\n      <th>...</th>\n      <td>...</td>\n    </tr>\n    <tr>\n      <th>430</th>\n      <td>1</td>\n    </tr>\n    <tr>\n      <th>431</th>\n      <td>1</td>\n    </tr>\n    <tr>\n      <th>432</th>\n      <td>1</td>\n    </tr>\n    <tr>\n      <th>433</th>\n      <td>1</td>\n    </tr>\n    <tr>\n      <th>434</th>\n      <td>1</td>\n    </tr>\n  </tbody>\n</table>\n<p>435 rows × 1 columns</p>\n</div>"
     },
     "execution_count": 21,
     "metadata": {},
     "output_type": "execute_result"
    }
   ],
   "source": [
    "import pyspark.sql.functions as F\n",
    "\n",
    "most_popular_search = df.filter(F.col(\"shortcut\")  == False)\n",
    "most_popular_search = most_popular_search.groupBy('key').count().orderBy('count', ascending=False)\n",
    "most_popular_search = most_popular_search.drop('key') if anonymize else most_popular_search\n",
    "most_popular_search.toPandas()"
   ],
   "metadata": {
    "collapsed": false,
    "pycharm": {
     "name": "#%%\n"
    }
   }
  },
  {
   "cell_type": "markdown",
   "source": [
    "df.printSchema()"
   ],
   "metadata": {
    "collapsed": false,
    "pycharm": {
     "name": "#%% md\n"
    }
   }
  },
  {
   "cell_type": "code",
   "execution_count": 21,
   "outputs": [],
   "source": [],
   "metadata": {
    "collapsed": false,
    "pycharm": {
     "name": "#%%\n"
    }
   }
  }
 ],
 "metadata": {
  "kernelspec": {
   "display_name": "Python 3",
   "language": "python",
   "name": "python3"
  },
  "language_info": {
   "codemirror_mode": {
    "name": "ipython",
    "version": 3
   },
   "file_extension": ".py",
   "mimetype": "text/x-python",
   "name": "python",
   "nbconvert_exporter": "python",
   "pygments_lexer": "ipython3",
   "version": "3.10.1"
  }
 },
 "nbformat": 4,
 "nbformat_minor": 1
}