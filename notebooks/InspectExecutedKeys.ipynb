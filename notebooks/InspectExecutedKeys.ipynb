{
 "cells": [
  {
   "cell_type": "code",
   "execution_count": 10,
   "metadata": {},
   "outputs": [],
   "source": [
    "from pyspark.sql.session import SparkSession\n",
    "\n",
    "topic = 'SearchRunPerformed'\n",
    "spark = SparkSession.builder.getOrCreate()\n",
    "\n",
    "\n",
    "anonymize = False\n",
    "anonymize = True\n",
    "df = spark.read.format(\"parquet\").load(f\"/data/python_search/data_warehouse/dataframes/{topic}\")"
   ]
  },
  {
   "cell_type": "markdown",
   "source": [
    "# Latest executed"
   ],
   "metadata": {
    "collapsed": false,
    "pycharm": {
     "name": "#%% md\n"
    }
   }
  },
  {
   "cell_type": "code",
   "execution_count": 11,
   "metadata": {
    "pycharm": {
     "name": "#%%\n"
    }
   },
   "outputs": [
    {
     "name": "stderr",
     "output_type": "stream",
     "text": [
      "                                                                                \r"
     ]
    },
    {
     "data": {
      "text/plain": "     query_input shortcut               timestamp\n0                   false 2022-01-15 19:13:13.510\n1                   false 2022-01-15 19:13:10.338\n2                       1 2022-01-15 19:12:55.570\n3                       1 2022-01-15 19:11:14.813\n4                   false 2022-01-15 19:11:13.284\n...          ...      ...                     ...\n5145                    1 2022-01-03 16:01:04.004\n5146                false 2022-01-03 15:59:40.954\n5147                    1 2022-01-03 15:59:36.819\n5148                false 2022-01-03 15:59:14.313\n5149                    1 2022-01-03 15:59:12.611\n\n[5150 rows x 3 columns]",
      "text/html": "<div>\n<style scoped>\n    .dataframe tbody tr th:only-of-type {\n        vertical-align: middle;\n    }\n\n    .dataframe tbody tr th {\n        vertical-align: top;\n    }\n\n    .dataframe thead th {\n        text-align: right;\n    }\n</style>\n<table border=\"1\" class=\"dataframe\">\n  <thead>\n    <tr style=\"text-align: right;\">\n      <th></th>\n      <th>query_input</th>\n      <th>shortcut</th>\n      <th>timestamp</th>\n    </tr>\n  </thead>\n  <tbody>\n    <tr>\n      <th>0</th>\n      <td></td>\n      <td>false</td>\n      <td>2022-01-15 19:13:13.510</td>\n    </tr>\n    <tr>\n      <th>1</th>\n      <td></td>\n      <td>false</td>\n      <td>2022-01-15 19:13:10.338</td>\n    </tr>\n    <tr>\n      <th>2</th>\n      <td></td>\n      <td>1</td>\n      <td>2022-01-15 19:12:55.570</td>\n    </tr>\n    <tr>\n      <th>3</th>\n      <td></td>\n      <td>1</td>\n      <td>2022-01-15 19:11:14.813</td>\n    </tr>\n    <tr>\n      <th>4</th>\n      <td></td>\n      <td>false</td>\n      <td>2022-01-15 19:11:13.284</td>\n    </tr>\n    <tr>\n      <th>...</th>\n      <td>...</td>\n      <td>...</td>\n      <td>...</td>\n    </tr>\n    <tr>\n      <th>5145</th>\n      <td></td>\n      <td>1</td>\n      <td>2022-01-03 16:01:04.004</td>\n    </tr>\n    <tr>\n      <th>5146</th>\n      <td></td>\n      <td>false</td>\n      <td>2022-01-03 15:59:40.954</td>\n    </tr>\n    <tr>\n      <th>5147</th>\n      <td></td>\n      <td>1</td>\n      <td>2022-01-03 15:59:36.819</td>\n    </tr>\n    <tr>\n      <th>5148</th>\n      <td></td>\n      <td>false</td>\n      <td>2022-01-03 15:59:14.313</td>\n    </tr>\n    <tr>\n      <th>5149</th>\n      <td></td>\n      <td>1</td>\n      <td>2022-01-03 15:59:12.611</td>\n    </tr>\n  </tbody>\n</table>\n<p>5150 rows × 3 columns</p>\n</div>"
     },
     "execution_count": 11,
     "metadata": {},
     "output_type": "execute_result"
    }
   ],
   "source": [
    "columns = ['key', \"query_input\", 'shortcut',  \"timestamp\"]\n",
    "if anonymize:\n",
    "    columns.remove('key')\n",
    "\n",
    "df.orderBy(\"timestamp\", ascending=False).select(columns).toPandas()\n"
   ]
  },
  {
   "cell_type": "code",
   "execution_count": 12,
   "outputs": [
    {
     "name": "stderr",
     "output_type": "stream",
     "text": [
      "                                                                                \r"
     ]
    },
    {
     "data": {
      "text/plain": "     count\n0      687\n1      422\n2      378\n3      375\n4      312\n..     ...\n499      1\n500      1\n501      1\n502      1\n503      1\n\n[504 rows x 1 columns]",
      "text/html": "<div>\n<style scoped>\n    .dataframe tbody tr th:only-of-type {\n        vertical-align: middle;\n    }\n\n    .dataframe tbody tr th {\n        vertical-align: top;\n    }\n\n    .dataframe thead th {\n        text-align: right;\n    }\n</style>\n<table border=\"1\" class=\"dataframe\">\n  <thead>\n    <tr style=\"text-align: right;\">\n      <th></th>\n      <th>count</th>\n    </tr>\n  </thead>\n  <tbody>\n    <tr>\n      <th>0</th>\n      <td>687</td>\n    </tr>\n    <tr>\n      <th>1</th>\n      <td>422</td>\n    </tr>\n    <tr>\n      <th>2</th>\n      <td>378</td>\n    </tr>\n    <tr>\n      <th>3</th>\n      <td>375</td>\n    </tr>\n    <tr>\n      <th>4</th>\n      <td>312</td>\n    </tr>\n    <tr>\n      <th>...</th>\n      <td>...</td>\n    </tr>\n    <tr>\n      <th>499</th>\n      <td>1</td>\n    </tr>\n    <tr>\n      <th>500</th>\n      <td>1</td>\n    </tr>\n    <tr>\n      <th>501</th>\n      <td>1</td>\n    </tr>\n    <tr>\n      <th>502</th>\n      <td>1</td>\n    </tr>\n    <tr>\n      <th>503</th>\n      <td>1</td>\n    </tr>\n  </tbody>\n</table>\n<p>504 rows × 1 columns</p>\n</div>"
     },
     "execution_count": 12,
     "metadata": {},
     "output_type": "execute_result"
    }
   ],
   "source": [
    "most_popular = df.groupBy('key').count().orderBy('count', ascending=False)\n",
    "most_popular = most_popular.drop('key') if anonymize else most_popular\n",
    "most_popular.toPandas()"
   ],
   "metadata": {
    "collapsed": false,
    "pycharm": {
     "name": "#%%\n"
    }
   }
  },
  {
   "cell_type": "markdown",
   "source": [
    " ## most popular searched only"
   ],
   "metadata": {
    "collapsed": false,
    "pycharm": {
     "name": "#%% md\n"
    }
   }
  },
  {
   "cell_type": "markdown",
   "source": [],
   "metadata": {
    "collapsed": false,
    "pycharm": {
     "name": "#%% md\n"
    }
   }
  },
  {
   "cell_type": "code",
   "execution_count": 13,
   "outputs": [
    {
     "name": "stderr",
     "output_type": "stream",
     "text": [
      "                                                                                \r"
     ]
    },
    {
     "data": {
      "text/plain": "     count\n0      312\n1       31\n2       21\n3       17\n4       13\n..     ...\n426      1\n427      1\n428      1\n429      1\n430      1\n\n[431 rows x 1 columns]",
      "text/html": "<div>\n<style scoped>\n    .dataframe tbody tr th:only-of-type {\n        vertical-align: middle;\n    }\n\n    .dataframe tbody tr th {\n        vertical-align: top;\n    }\n\n    .dataframe thead th {\n        text-align: right;\n    }\n</style>\n<table border=\"1\" class=\"dataframe\">\n  <thead>\n    <tr style=\"text-align: right;\">\n      <th></th>\n      <th>count</th>\n    </tr>\n  </thead>\n  <tbody>\n    <tr>\n      <th>0</th>\n      <td>312</td>\n    </tr>\n    <tr>\n      <th>1</th>\n      <td>31</td>\n    </tr>\n    <tr>\n      <th>2</th>\n      <td>21</td>\n    </tr>\n    <tr>\n      <th>3</th>\n      <td>17</td>\n    </tr>\n    <tr>\n      <th>4</th>\n      <td>13</td>\n    </tr>\n    <tr>\n      <th>...</th>\n      <td>...</td>\n    </tr>\n    <tr>\n      <th>426</th>\n      <td>1</td>\n    </tr>\n    <tr>\n      <th>427</th>\n      <td>1</td>\n    </tr>\n    <tr>\n      <th>428</th>\n      <td>1</td>\n    </tr>\n    <tr>\n      <th>429</th>\n      <td>1</td>\n    </tr>\n    <tr>\n      <th>430</th>\n      <td>1</td>\n    </tr>\n  </tbody>\n</table>\n<p>431 rows × 1 columns</p>\n</div>"
     },
     "execution_count": 13,
     "metadata": {},
     "output_type": "execute_result"
    }
   ],
   "source": [
    "import pyspark.sql.functions as F\n",
    "\n",
    "most_popular_search = df.filter(F.col(\"shortcut\")  == False)\n",
    "most_popular_search = most_popular_search.groupBy('key').count().orderBy('count', ascending=False)\n",
    "most_popular_search = most_popular_search.drop('key') if anonymize else most_popular_search\n",
    "most_popular_search.toPandas()"
   ],
   "metadata": {
    "collapsed": false,
    "pycharm": {
     "name": "#%%\n"
    }
   }
  },
  {
   "cell_type": "markdown",
   "source": [
    "df.printSchema()"
   ],
   "metadata": {
    "collapsed": false,
    "pycharm": {
     "name": "#%% md\n"
    }
   }
  },
  {
   "cell_type": "code",
   "execution_count": 13,
   "outputs": [],
   "source": [],
   "metadata": {
    "collapsed": false,
    "pycharm": {
     "name": "#%%\n"
    }
   }
  }
 ],
 "metadata": {
  "kernelspec": {
   "display_name": "Python 3",
   "language": "python",
   "name": "python3"
  },
  "language_info": {
   "codemirror_mode": {
    "name": "ipython",
    "version": 3
   },
   "file_extension": ".py",
   "mimetype": "text/x-python",
   "name": "python",
   "nbconvert_exporter": "python",
   "pygments_lexer": "ipython3",
   "version": "3.10.1"
  }
 },
 "nbformat": 4,
 "nbformat_minor": 1
}
