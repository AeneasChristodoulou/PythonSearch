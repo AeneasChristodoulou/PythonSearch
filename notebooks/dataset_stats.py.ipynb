{
 "cells": [
  {
   "cell_type": "markdown",
   "source": [
    "## Dataset stats"
   ],
   "metadata": {
    "collapsed": false
   }
  },
  {
   "cell_type": "code",
   "execution_count": 1,
   "outputs": [],
   "source": [
    "from search_run.ranking.ranking import Ranking\n",
    "\n",
    "from pyspark.sql.session import SparkSession ; spark = SparkSession.builder.getOrCreate()\n",
    "ranking = Ranking()\n"
   ],
   "metadata": {
    "collapsed": false,
    "pycharm": {
     "name": "#%%\n"
    }
   }
  },
  {
   "cell_type": "markdown",
   "source": [
    "## Entries"
   ],
   "metadata": {
    "collapsed": false
   }
  },
  {
   "cell_type": "code",
   "execution_count": 2,
   "outputs": [
    {
     "name": "stdout",
     "output_type": "stream",
     "text": [
      "+-------+--------------------+--------------------+-----------------+------------------+\n",
      "|summary|             content|                 key|         position|        key_lenght|\n",
      "+-------+--------------------+--------------------+-----------------+------------------+\n",
      "|  count|                4261|                4261|             4261|              4261|\n",
      "|   mean|                null|1.709892734438654...|           2131.0|  24.6979582257686|\n",
      "| stddev|                null|2.418153495246362E46|1230.189077608262|10.759320364382635|\n",
      "|    min| ls *.json | xarg...| my values blog post|                1|                 2|\n",
      "|    max|{'where': 'gyg ff...|     zoom share link|             4261|               133|\n",
      "+-------+--------------------+--------------------+-----------------+------------------+\n",
      "\n"
     ]
    }
   ],
   "source": [
    "entries_df = ranking.load_entries_df(spark)\n",
    "entries_df.describe().show()"
   ],
   "metadata": {
    "collapsed": false,
    "pycharm": {
     "name": "#%%\n"
    }
   }
  },
  {
   "cell_type": "markdown",
   "source": [
    "## History"
   ],
   "metadata": {
    "collapsed": false
   }
  },
  {
   "cell_type": "code",
   "execution_count": 3,
   "outputs": [
    {
     "name": "stdout",
     "output_type": "stream",
     "text": [
      "+-------+---------------+-------------------+--------------------+------------------+\n",
      "|summary|            key|     generated_date|         given_input|      input_lenght|\n",
      "+-------+---------------+-------------------+--------------------+------------------+\n",
      "|  count|           4557|               4557|                4557|              4557|\n",
      "|   mean|           null|               null|  316.21999999999997|32.385780118499014|\n",
      "| stddev|           null|               null|  186.29665053349723|  45.9816540661234|\n",
      "|    min|               |2021-08-15 20:19:09|                    |                 0|\n",
      "|    max|zoom share link|2021-09-18 08:17:45|zoom app focus on...|               584|\n",
      "+-------+---------------+-------------------+--------------------+------------------+\n",
      "\n"
     ]
    }
   ],
   "source": [
    "performed_df = ranking.load_commands_performed_dataframe(spark)\n",
    "performed_df.describe().show()\n",
    "\n",
    "\n"
   ],
   "metadata": {
    "collapsed": false,
    "pycharm": {
     "name": "#%%\n"
    }
   }
  }
 ],
 "metadata": {
  "kernelspec": {
   "display_name": "Python 3",
   "language": "python",
   "name": "python3"
  },
  "language_info": {
   "codemirror_mode": {
    "name": "ipython",
    "version": 2
   },
   "file_extension": ".py",
   "mimetype": "text/x-python",
   "name": "python",
   "nbconvert_exporter": "python",
   "pygments_lexer": "ipython2",
   "version": "2.7.6"
  }
 },
 "nbformat": 4,
 "nbformat_minor": 0
}
