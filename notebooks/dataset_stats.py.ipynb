{
 "cells": [
  {
   "cell_type": "markdown",
   "source": [
    "## Dataset stats"
   ],
   "metadata": {
    "collapsed": false
   }
  },
  {
   "cell_type": "code",
   "execution_count": 2,
   "outputs": [
    {
     "data": {
      "text/plain": "DataFrame[summary: string, content: string, key: string, position: string, key_lenght: string]"
     },
     "execution_count": 1,
     "metadata": {},
     "output_type": "execute_result"
    }
   ],
   "source": [
    "from search_run.ranking.ranking import Ranking\n",
    "from pyspark.sql.session import SparkSession\n",
    "\n",
    "spark = SparkSession.builder.getOrCreate()\n",
    "ranking = Ranking()\n"
   ],
   "metadata": {
    "collapsed": false,
    "pycharm": {
     "name": "#%%\n"
    }
   }
  },
  {
   "cell_type": "markdown",
   "source": [
    "## Entries"
   ],
   "metadata": {
    "collapsed": false
   }
  },
  {
   "cell_type": "code",
   "execution_count": 5,
   "outputs": [
    {
     "name": "stdout",
     "output_type": "stream",
     "text": [
      "+-------+--------------------+--------------------+-----------------+------------------+\n",
      "|summary|             content|                 key|         position|        key_lenght|\n",
      "+-------+--------------------+--------------------+-----------------+------------------+\n",
      "|  count|                4029|                4029|             4029|              4029|\n",
      "|   mean|                null|1.709892734438654...|           2015.0|24.255646562422438|\n",
      "| stddev|                null|2.418153495246362E46|1163.216445894744|10.522127392128601|\n",
      "|    min| ls *.json | xarg...| my values blog post|                1|                 2|\n",
      "|    max|{'where': 'gyg ff...|zoom german class...|             4029|               133|\n",
      "+-------+--------------------+--------------------+-----------------+------------------+\n",
      "\n"
     ]
    }
   ],
   "source": [
    "entries_df = ranking.load_entries_df(spark)\n",
    "entries_df.describe().show()"
   ],
   "metadata": {
    "collapsed": false,
    "pycharm": {
     "name": "#%%\n"
    }
   }
  },
  {
   "cell_type": "markdown",
   "source": [
    "## History"
   ],
   "metadata": {
    "collapsed": false
   }
  },
  {
   "cell_type": "code",
   "execution_count": 6,
   "outputs": [
    {
     "name": "stdout",
     "output_type": "stream",
     "text": [
      "+-------+--------------------+-------------------+--------------------+------------------+\n",
      "|summary|                 key|     generated_date|         given_input|      input_lenght|\n",
      "+-------+--------------------+-------------------+--------------------+------------------+\n",
      "|  count|                4048|               4048|                4048|              4048|\n",
      "|   mean|                null|               null|               430.0| 35.12425889328063|\n",
      "| stddev|                null|               null|   98.99494936611666|48.053632466482625|\n",
      "|    min|                    |2021-08-15 20:19:09|                    |                 0|\n",
      "|    max|zoom app focus on...|2021-09-05 10:40:26|zoom app focus on...|               584|\n",
      "+-------+--------------------+-------------------+--------------------+------------------+\n",
      "\n"
     ]
    }
   ],
   "source": [
    "performed_df = ranking.load_commands_performed_dataframe(spark)\n",
    "performed_df.describe().show()\n",
    "\n"
   ],
   "metadata": {
    "collapsed": false,
    "pycharm": {
     "name": "#%%\n"
    }
   }
  }
 ],
 "metadata": {
  "kernelspec": {
   "display_name": "Python 3",
   "language": "python",
   "name": "python3"
  },
  "language_info": {
   "codemirror_mode": {
    "name": "ipython",
    "version": 2
   },
   "file_extension": ".py",
   "mimetype": "text/x-python",
   "name": "python",
   "nbconvert_exporter": "python",
   "pygments_lexer": "ipython2",
   "version": "2.7.6"
  }
 },
 "nbformat": 4,
 "nbformat_minor": 0
}
