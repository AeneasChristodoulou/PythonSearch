{
 "cells": [
  {
   "cell_type": "code",
   "execution_count": 2,
   "metadata": {
    "collapsed": false,
    "jupyter": {
     "outputs_hidden": false
    },
    "pycharm": {
     "name": "#%%\n"
    }
   },
   "outputs": [],
   "source": [
    "import mlflow\n",
    "from sklearn.model_selection import train_test_split\n",
    "from sklearn.ensemble import RandomForestRegressor\n",
    "from sklearn.metrics import mean_squared_error\n",
    "from search_run.ranking.ranking import Ranking\n",
    "from pyspark.sql.session import SparkSession\n",
    "\n",
    "spark = SparkSession.builder.getOrCreate()\n",
    "ranking = Ranking()\n"
   ]
  },
  {
   "cell_type": "markdown",
   "metadata": {},
   "source": [
    "## Entries"
   ]
  },
  {
   "cell_type": "code",
   "execution_count": 3,
   "metadata": {
    "collapsed": false,
    "jupyter": {
     "outputs_hidden": false
    },
    "pycharm": {
     "name": "#%%\n"
    }
   },
   "outputs": [
    {
     "name": "stdout",
     "output_type": "stream",
     "text": [
      "+--------+----------+\n",
      "|position|key_lenght|\n",
      "+--------+----------+\n",
      "|       1|        42|\n",
      "|       2|        31|\n",
      "|       3|        31|\n",
      "|       4|        24|\n",
      "|       5|        47|\n",
      "|       6|        43|\n",
      "|       7|        15|\n",
      "|       8|        43|\n",
      "|       9|        22|\n",
      "|      10|        27|\n",
      "|      11|        36|\n",
      "|      12|        23|\n",
      "|      13|        24|\n",
      "|      14|         6|\n",
      "|      15|        54|\n",
      "|      16|        14|\n",
      "|      17|        72|\n",
      "|      18|        30|\n",
      "|      19|        32|\n",
      "|      20|        22|\n",
      "+--------+----------+\n",
      "only showing top 20 rows\n",
      "\n"
     ]
    }
   ],
   "source": [
    "entries_df = ranking.load_entries_df(spark)\n",
    "entries_df.select('position', 'key_lenght').show()"
   ]
  },
  {
   "cell_type": "markdown",
   "metadata": {},
   "source": [
    "## Commands performed"
   ]
  },
  {
   "cell_type": "code",
   "execution_count": 4,
   "metadata": {
    "collapsed": false,
    "jupyter": {
     "outputs_hidden": false
    },
    "pycharm": {
     "name": "#%%\n"
    }
   },
   "outputs": [
    {
     "name": "stdout",
     "output_type": "stream",
     "text": [
      "+------------+-------------------+\n",
      "|input_lenght|     generated_date|\n",
      "+------------+-------------------+\n",
      "|           0|2021-09-18 08:17:45|\n",
      "|           0|2021-09-18 08:17:05|\n",
      "|           0|2021-09-18 08:17:02|\n",
      "|           0|2021-09-18 08:15:24|\n",
      "|           0|2021-09-18 08:15:00|\n",
      "|           0|2021-09-18 08:14:40|\n",
      "|           0|2021-09-18 08:13:59|\n",
      "|           0|2021-09-18 08:13:20|\n",
      "|           0|2021-09-18 08:12:42|\n",
      "|           0|2021-09-18 08:11:07|\n",
      "|           0|2021-09-18 08:10:45|\n",
      "|           0|2021-09-18 08:09:23|\n",
      "|           0|2021-09-18 08:08:57|\n",
      "|           0|2021-09-18 08:08:33|\n",
      "|           0|2021-09-18 08:08:08|\n",
      "|           0|2021-09-18 08:07:40|\n",
      "|           0|2021-09-18 08:07:32|\n",
      "|           0|2021-09-18 08:07:27|\n",
      "|           3|2021-09-18 07:35:41|\n",
      "|          12|2021-09-18 07:30:51|\n",
      "+------------+-------------------+\n",
      "only showing top 20 rows\n",
      "\n"
     ]
    }
   ],
   "source": [
    "performed_df = ranking.load_commands_performed_dataframe(spark)\n",
    "performed_df.select('input_lenght', 'generated_date').show()"
   ]
  },
  {
   "cell_type": "markdown",
   "metadata": {},
   "source": [
    "## Join spark datasets"
   ]
  },
  {
   "cell_type": "code",
   "execution_count": 5,
   "metadata": {
    "collapsed": false,
    "jupyter": {
     "outputs_hidden": false
    },
    "pycharm": {
     "name": "#%%\n"
    }
   },
   "outputs": [
    {
     "name": "stdout",
     "output_type": "stream",
     "text": [
      "+--------+----------+------------+\n",
      "|position|key_lenght|input_lenght|\n",
      "+--------+----------+------------+\n",
      "|    2616|        12|          10|\n",
      "|    2616|        12|           9|\n",
      "|     689|        41|          11|\n",
      "|    2687|        33|          15|\n",
      "|    4176|        19|         134|\n",
      "|    4176|        19|         134|\n",
      "|     888|        27|           9|\n",
      "|     888|        27|          10|\n",
      "|     888|        27|          27|\n",
      "|     888|        27|          27|\n",
      "|     888|        27|          27|\n",
      "|     888|        27|          27|\n",
      "|     888|        27|          27|\n",
      "|     888|        27|          27|\n",
      "|     888|        27|          27|\n",
      "|     888|        27|          27|\n",
      "|     888|        27|          27|\n",
      "|     888|        27|          27|\n",
      "|     888|        27|          27|\n",
      "|     888|        27|          27|\n",
      "+--------+----------+------------+\n",
      "only showing top 20 rows\n",
      "\n"
     ]
    }
   ],
   "source": [
    "\n",
    "df = performed_df.join(entries_df, on='key', how='left')\n",
    "df = df.filter('position is not null')\n",
    "\n",
    "df.select(*ranking.model_info.features, ranking.model_info.label).show()"
   ]
  },
  {
   "cell_type": "markdown",
   "source": [
    "## Final numpy dataset + train test split"
   ],
   "metadata": {
    "collapsed": false
   }
  },
  {
   "cell_type": "code",
   "execution_count": 6,
   "metadata": {
    "collapsed": false,
    "jupyter": {
     "outputs_hidden": false
    },
    "pycharm": {
     "name": "#%%\n"
    }
   },
   "outputs": [],
   "source": [
    "import numpy as np\n",
    "X = np.array(df.select(*ranking.model_info.features).collect())\n",
    "Y = np.array(df.select(ranking.model_info.label).collect())\n",
    "\n",
    "\n",
    "X_train, X_test, y_train, y_test = train_test_split(X, Y, test_size=0.25, random_state=12)"
   ]
  },
  {
   "cell_type": "markdown",
   "metadata": {},
   "source": [
    "## Train model"
   ]
  },
  {
   "cell_type": "code",
   "execution_count": 7,
   "metadata": {
    "collapsed": false,
    "jupyter": {
     "outputs_hidden": false
    },
    "pycharm": {
     "name": "#%%\n"
    }
   },
   "outputs": [
    {
     "name": "stderr",
     "output_type": "stream",
     "text": [
      "<ipython-input-7-c453aa062a27>:4: DataConversionWarning: A column-vector y was passed when a 1d array was expected. Please change the shape of y to (n_samples,), for example using ravel().\n",
      "  model = regr.fit(X_train, y_train)\n"
     ]
    }
   ],
   "source": [
    "\n",
    "with mlflow.start_run():\n",
    "    max_depth = 10\n",
    "    regr = RandomForestRegressor(max_depth=max_depth, random_state=0)\n",
    "    model = regr.fit(X_train, y_train)\n",
    "    mlflow.sklearn.log_model(model, artifact_path=\"model\")\n",
    "\n",
    "\n",
    "    ## Validate Model on test dataset\n",
    "    y_test\n",
    "    results = model.predict(X_test)\n",
    "    mse = mean_squared_error(y_test, results)\n",
    "    mlflow.log_metric(\"mse\", mse)\n",
    "    mlflow.log_metric(\"max_depth\", max_depth)\n"
   ]
  },
  {
   "cell_type": "code",
   "execution_count": null,
   "outputs": [],
   "source": [],
   "metadata": {
    "collapsed": false,
    "pycharm": {
     "name": "#%%\n"
    }
   }
  }
 ],
 "metadata": {
  "kernelspec": {
   "display_name": "Python 3",
   "language": "python",
   "name": "python3"
  },
  "language_info": {
   "codemirror_mode": {
    "name": "ipython",
    "version": 3
   },
   "file_extension": ".py",
   "mimetype": "text/x-python",
   "name": "python",
   "nbconvert_exporter": "python",
   "pygments_lexer": "ipython3",
   "version": "3.9.6"
  }
 },
 "nbformat": 4,
 "nbformat_minor": 4
}