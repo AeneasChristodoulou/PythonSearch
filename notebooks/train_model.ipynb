{
 "cells": [
  {
   "cell_type": "code",
   "execution_count": 1,
   "metadata": {
    "collapsed": false,
    "jupyter": {
     "outputs_hidden": false
    },
    "pycharm": {
     "name": "#%%\n"
    }
   },
   "outputs": [],
   "source": [
    "import mlflow\n",
    "from sklearn.model_selection import train_test_split\n",
    "from sklearn.ensemble import RandomForestRegressor\n",
    "from sklearn.metrics import mean_squared_error\n",
    "from search_run.ranking.ranking import Ranking\n",
    "from pyspark.sql.session import SparkSession\n",
    "\n",
    "spark = SparkSession.builder.getOrCreate()\n",
    "ranking = Ranking()\n"
   ]
  },
  {
   "cell_type": "markdown",
   "metadata": {},
   "source": [
    "## Entries"
   ]
  },
  {
   "cell_type": "code",
   "execution_count": 2,
   "metadata": {
    "collapsed": false,
    "jupyter": {
     "outputs_hidden": false
    },
    "pycharm": {
     "name": "#%%\n"
    }
   },
   "outputs": [
    {
     "name": "stdout",
     "output_type": "stream",
     "text": [
      "+--------+----------+\n",
      "|position|key_lenght|\n",
      "+--------+----------+\n",
      "|       1|        25|\n",
      "|       2|        18|\n",
      "|       3|        21|\n",
      "|       4|        14|\n",
      "|       5|        18|\n",
      "|       6|        24|\n",
      "|       7|        15|\n",
      "|       8|        54|\n",
      "|       9|        45|\n",
      "|      10|        23|\n",
      "|      11|        27|\n",
      "|      12|        17|\n",
      "|      13|        32|\n",
      "|      14|        19|\n",
      "|      15|        31|\n",
      "|      16|        53|\n",
      "|      17|        45|\n",
      "|      18|        31|\n",
      "|      19|        36|\n",
      "|      20|        17|\n",
      "+--------+----------+\n",
      "only showing top 20 rows\n",
      "\n"
     ]
    }
   ],
   "source": [
    "entries_df = ranking.load_entries_df(spark)\n",
    "entries_df.select('position', 'key_lenght').show()"
   ]
  },
  {
   "cell_type": "markdown",
   "metadata": {},
   "source": [
    "## Commands performed"
   ]
  },
  {
   "cell_type": "code",
   "execution_count": 3,
   "metadata": {
    "collapsed": false,
    "jupyter": {
     "outputs_hidden": false
    },
    "pycharm": {
     "name": "#%%\n"
    }
   },
   "outputs": [
    {
     "name": "stdout",
     "output_type": "stream",
     "text": [
      "+------------+-------------------+\n",
      "|input_lenght|     generated_date|\n",
      "+------------+-------------------+\n",
      "|          19|2021-08-31 12:44:44|\n",
      "|           3|2021-08-31 12:41:03|\n",
      "|           2|2021-08-31 12:40:54|\n",
      "|           5|2021-08-31 12:39:12|\n",
      "|          23|2021-08-31 12:38:28|\n",
      "|          12|2021-08-31 12:24:32|\n",
      "|           6|2021-08-31 12:16:34|\n",
      "|          15|2021-08-31 12:12:30|\n",
      "|          15|2021-08-31 12:11:20|\n",
      "|           7|2021-08-31 12:07:35|\n",
      "|          12|2021-08-31 11:34:18|\n",
      "|           4|2021-08-31 11:31:24|\n",
      "|          12|2021-08-31 11:14:52|\n",
      "|           7|2021-08-31 11:12:55|\n",
      "|          11|2021-08-31 11:08:53|\n",
      "|          10|2021-08-31 10:56:55|\n",
      "|          24|2021-08-31 10:55:06|\n",
      "|           5|2021-08-31 10:53:13|\n",
      "|          19|2021-08-31 10:47:41|\n",
      "|          13|2021-08-31 10:43:50|\n",
      "+------------+-------------------+\n",
      "only showing top 20 rows\n",
      "\n"
     ]
    }
   ],
   "source": [
    "performed_df = ranking.load_commands_performed_dataframe(spark)\n",
    "performed_df.select('input_lenght', 'generated_date').show()"
   ]
  },
  {
   "cell_type": "markdown",
   "metadata": {},
   "source": [
    "## Join spark datasets"
   ]
  },
  {
   "cell_type": "code",
   "execution_count": 4,
   "metadata": {
    "collapsed": false,
    "jupyter": {
     "outputs_hidden": false
    },
    "pycharm": {
     "name": "#%%\n"
    }
   },
   "outputs": [
    {
     "name": "stdout",
     "output_type": "stream",
     "text": [
      "+--------+----------+------------+\n",
      "|position|key_lenght|input_lenght|\n",
      "+--------+----------+------------+\n",
      "|    3905|        19|         134|\n",
      "|    3905|        19|         134|\n",
      "|     664|        27|          10|\n",
      "|     664|        27|          27|\n",
      "|     664|        27|          27|\n",
      "|     664|        27|          27|\n",
      "|     664|        27|          27|\n",
      "|     664|        27|          27|\n",
      "|     664|        27|          27|\n",
      "|     664|        27|          27|\n",
      "|     664|        27|          27|\n",
      "|     664|        27|          27|\n",
      "|     664|        27|          27|\n",
      "|     664|        27|          27|\n",
      "|     664|        27|          27|\n",
      "|     664|        27|          27|\n",
      "|     664|        27|          27|\n",
      "|     664|        27|          27|\n",
      "|     664|        27|          27|\n",
      "|     664|        27|          27|\n",
      "+--------+----------+------------+\n",
      "only showing top 20 rows\n",
      "\n"
     ]
    }
   ],
   "source": [
    "\n",
    "df = performed_df.join(entries_df, on='key', how='left')\n",
    "df = df.filter('position is not null')\n",
    "\n",
    "df.select(*ranking.model_info.features, ranking.model_info.label).show()"
   ]
  },
  {
   "cell_type": "markdown",
   "source": [
    "## Final numpy dataset + train test split"
   ],
   "metadata": {
    "collapsed": false
   }
  },
  {
   "cell_type": "code",
   "execution_count": 5,
   "metadata": {
    "collapsed": false,
    "jupyter": {
     "outputs_hidden": false
    },
    "pycharm": {
     "name": "#%%\n"
    }
   },
   "outputs": [],
   "source": [
    "import numpy as np\n",
    "X = np.array(df.select(*ranking.model_info.features).collect())\n",
    "Y = np.array(df.select(ranking.model_info.label).collect())\n",
    "\n",
    "\n",
    "X_train, X_test, y_train, y_test = train_test_split(X, Y, test_size=0.25, random_state=12)"
   ]
  },
  {
   "cell_type": "markdown",
   "metadata": {},
   "source": [
    "## Train model"
   ]
  },
  {
   "cell_type": "code",
   "execution_count": 8,
   "metadata": {
    "collapsed": false,
    "jupyter": {
     "outputs_hidden": false
    },
    "pycharm": {
     "name": "#%%\n"
    }
   },
   "outputs": [
    {
     "name": "stderr",
     "output_type": "stream",
     "text": [
      "<ipython-input-8-9857ed0e69a3>:3: DataConversionWarning: A column-vector y was passed when a 1d array was expected. Please change the shape of y to (n_samples,), for example using ravel().\n",
      "  model = regr.fit(X_train, y_train)\n"
     ]
    }
   ],
   "source": [
    "\n",
    "with mlflow.start_run():\n",
    "    regr = RandomForestRegressor(max_depth=2, random_state=0)\n",
    "    model = regr.fit(X_train, y_train)\n",
    "    mlflow.sklearn.log_model(model, artifact_path=\"model\")\n",
    "\n",
    "\n",
    "    ## Validate Model on test dataset\n",
    "    y_test\n",
    "    results = model.predict(X_test)\n",
    "    mse = mean_squared_error(y_test, results)\n",
    "    mlflow.log_metric(\"mse\", mse)\n"
   ]
  },
  {
   "cell_type": "code",
   "execution_count": null,
   "outputs": [],
   "source": [],
   "metadata": {
    "collapsed": false,
    "pycharm": {
     "name": "#%%\n"
    }
   }
  }
 ],
 "metadata": {
  "kernelspec": {
   "display_name": "Python 3",
   "language": "python",
   "name": "python3"
  },
  "language_info": {
   "codemirror_mode": {
    "name": "ipython",
    "version": 3
   },
   "file_extension": ".py",
   "mimetype": "text/x-python",
   "name": "python",
   "nbconvert_exporter": "python",
   "pygments_lexer": "ipython3",
   "version": "3.9.6"
  }
 },
 "nbformat": 4,
 "nbformat_minor": 4
}
