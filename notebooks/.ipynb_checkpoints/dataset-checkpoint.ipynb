{
 "cells": [
  {
   "cell_type": "code",
   "execution_count": 1,
   "metadata": {
    "collapsed": false,
    "jupyter": {
     "outputs_hidden": false
    },
    "pycharm": {
     "name": "#%%\n"
    }
   },
   "outputs": [],
   "source": [
    "from search_run.ranking.ranking import Ranking\n",
    "from pyspark.sql.session import SparkSession\n",
    "import pyspark.sql.functions as F\n",
    "from pyspark.sql.functions import udf\n",
    "from pyspark.sql.types import FloatType\n",
    "\n",
    "\n",
    "spark = SparkSession.builder.getOrCreate()"
   ]
  },
  {
   "cell_type": "markdown",
   "metadata": {},
   "source": [
    "## Entries"
   ]
  },
  {
   "cell_type": "code",
   "execution_count": null,
   "metadata": {
    "collapsed": false,
    "jupyter": {
     "outputs_hidden": false
    },
    "pycharm": {
     "name": "#%%\n"
    }
   },
   "outputs": [],
   "source": [
    "entries = Ranking().load_entries()\n",
    "\n",
    "entries\n",
    "entries = [{\"key\": entry[0], \"content\": f\"{entry[1]}\", \"position\": position+1} for position, entry in enumerate(entries\n",
    "                                                                                                                .items())]\n",
    "#entries\n",
    "\n",
    "rdd = spark.sparkContext.parallelize(entries)\n",
    "\n",
    "entries_df = spark.read.json(rdd)\n",
    "entries_df = entries_df.drop(\"_corrupt_record\", 'content')\n",
    "entries_df.show()"
   ]
  },
  {
   "cell_type": "markdown",
   "metadata": {},
   "source": [
    "## Commands performed"
   ]
  },
  {
   "cell_type": "code",
   "execution_count": null,
   "metadata": {
    "collapsed": false,
    "jupyter": {
     "outputs_hidden": false
    },
    "pycharm": {
     "name": "#%%\n"
    }
   },
   "outputs": [],
   "source": [
    "dataset = Ranking().load_commands_performed_df()\n",
    "#display(dataset)h_input': 116643}\n",
    "schema = '`key` STRING,  `generated_date` STRING, `uuid` STRING, `given_input` STRING'\n",
    "original_df = spark.createDataFrame(dataset, schema=schema)\n",
    "performed_df = original_df.withColumn(\"input_lenght\", F.length(\"given_input\"))\n",
    "performed_df = performed_df.filter('given_input != \"NaN\"')\n",
    "performed_df = performed_df.drop('generated_date', 'uuid')\n",
    "stats={\n",
    "    \"total_entries\": original_df.count(),\n",
    "    \"entries_with_input\": performed_df.filter(\"input_lenght > 0\").count()\n",
    "}\n",
    "print(stats)\n",
    "\n",
    "performed_df.show()\n"
   ]
  },
  {
   "cell_type": "markdown",
   "metadata": {},
   "source": [
    "## Final Dataset"
   ]
  },
  {
   "cell_type": "code",
   "execution_count": null,
   "metadata": {
    "collapsed": false,
    "jupyter": {
     "outputs_hidden": false
    },
    "pycharm": {
     "name": "#%%\n"
    }
   },
   "outputs": [],
   "source": [
    "\n",
    "df = performed_df.join(entries_df, on='key', how='left')\n",
    "df = df.filter('position is not null')\n",
    "\n",
    "df.orderBy('input_lenght').show()"
   ]
  },
  {
   "cell_type": "code",
   "execution_count": 5,
   "metadata": {
    "collapsed": false,
    "jupyter": {
     "outputs_hidden": false
    },
    "pycharm": {
     "name": "#%%\n"
    }
   },
   "outputs": [],
   "source": [
    "import numpy as np\n",
    "\n",
    "X = np.array(df.select('position').collect())\n",
    "Y = np.array(df.select('input_lenght').collect())"
   ]
  },
  {
   "cell_type": "markdown",
   "metadata": {},
   "source": [
    "## Train model"
   ]
  },
  {
   "cell_type": "code",
   "execution_count": 6,
   "metadata": {
    "collapsed": false,
    "jupyter": {
     "outputs_hidden": false
    },
    "pycharm": {
     "name": "#%%\n"
    }
   },
   "outputs": [
    {
     "name": "stderr",
     "output_type": "stream",
     "text": [
      "<ipython-input-6-73c093e3e983>:3: DataConversionWarning: A column-vector y was passed when a 1d array was expected. Please change the shape of y to (n_samples,), for example using ravel().\n",
      "  model = regr.fit(X, Y)\n"
     ]
    }
   ],
   "source": [
    "\n",
    "from sklearn.ensemble import RandomForestRegressor\n",
    "regr = RandomForestRegressor(max_depth=2, random_state=0)\n",
    "model = regr.fit(X, Y)"
   ]
  },
  {
   "cell_type": "markdown",
   "metadata": {},
   "source": [
    "## Predict ranking"
   ]
  },
  {
   "cell_type": "code",
   "execution_count": 8,
   "metadata": {
    "collapsed": false,
    "jupyter": {
     "outputs_hidden": false
    },
    "pycharm": {
     "name": "#%%\n"
    }
   },
   "outputs": [
    {
     "name": "stdout",
     "output_type": "stream",
     "text": [
      "+--------+---------------+\n",
      "|position|predicted_score|\n",
      "+--------+---------------+\n",
      "|    3859|       88.29857|\n",
      "|    3858|       88.29857|\n",
      "|    3857|       88.29857|\n",
      "|    3856|       88.29857|\n",
      "|    3855|       88.29857|\n",
      "|    3854|       88.29857|\n",
      "|    3853|       88.29857|\n",
      "|    3852|       88.29857|\n",
      "|    3851|       88.29857|\n",
      "|    3850|       88.29857|\n",
      "|    3849|       88.29857|\n",
      "|    3848|       88.29857|\n",
      "|    3847|       88.29857|\n",
      "|    3846|       88.29857|\n",
      "|    3845|       88.29857|\n",
      "|    3844|       88.29857|\n",
      "|    3843|       88.29857|\n",
      "|    3842|       88.29857|\n",
      "|    3841|       88.29857|\n",
      "|    3840|       88.29857|\n",
      "+--------+---------------+\n",
      "only showing top 20 rows\n",
      "\n"
     ]
    }
   ],
   "source": [
    "def evaluate_model(x):\n",
    "    return float(model.predict(np.array([[x]]))[0])\n",
    "\n",
    "model_udf = udf(evaluate_model, FloatType())\n",
    "\n",
    "result_df = entries_df.drop('key').withColumn(\"predicted_score\", model_udf(F.col('position')))\n",
    "\n",
    "result_df.orderBy(F.col('position').desc()).show()"
   ]
  }
 ],
 "metadata": {
  "kernelspec": {
   "display_name": "Python 3",
   "language": "python",
   "name": "python3"
  },
  "language_info": {
   "codemirror_mode": {
    "name": "ipython",
    "version": 3
   },
   "file_extension": ".py",
   "mimetype": "text/x-python",
   "name": "python",
   "nbconvert_exporter": "python",
   "pygments_lexer": "ipython3",
   "version": "3.9.6"
  }
 },
 "nbformat": 4,
 "nbformat_minor": 4
}
